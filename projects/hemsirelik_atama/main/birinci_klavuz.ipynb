{
 "cells": [
  {
   "cell_type": "code",
   "execution_count": 1,
   "id": "a491af4c-2ac6-4162-a8b6-7fec6c6d483e",
   "metadata": {},
   "outputs": [],
   "source": [
    "import pandas as pd"
   ]
  },
  {
   "cell_type": "code",
   "execution_count": 2,
   "id": "6212014c-2d92-4e60-a088-b395e79532e2",
   "metadata": {},
   "outputs": [],
   "source": [
    "birinci_klavuz = pd.read_csv(\"https://raw.githubusercontent.com/hasanbarisgok/DataScience/main/projects/hemsirelik_atama/1_12_2020.csv\")"
   ]
  },
  {
   "cell_type": "code",
   "execution_count": 3,
   "id": "df59bea1-ad8e-4d20-b583-5b93a8b7e1cb",
   "metadata": {},
   "outputs": [
    {
     "data": {
      "text/html": [
       "<div>\n",
       "<style scoped>\n",
       "    .dataframe tbody tr th:only-of-type {\n",
       "        vertical-align: middle;\n",
       "    }\n",
       "\n",
       "    .dataframe tbody tr th {\n",
       "        vertical-align: top;\n",
       "    }\n",
       "\n",
       "    .dataframe thead th {\n",
       "        text-align: right;\n",
       "    }\n",
       "</style>\n",
       "<table border=\"1\" class=\"dataframe\">\n",
       "  <thead>\n",
       "    <tr style=\"text-align: right;\">\n",
       "      <th></th>\n",
       "      <th>count</th>\n",
       "      <th>mean</th>\n",
       "      <th>std</th>\n",
       "      <th>min</th>\n",
       "      <th>25%</th>\n",
       "      <th>50%</th>\n",
       "      <th>75%</th>\n",
       "      <th>max</th>\n",
       "    </tr>\n",
       "  </thead>\n",
       "  <tbody>\n",
       "    <tr>\n",
       "      <th>2469</th>\n",
       "      <td>617.0</td>\n",
       "      <td>2778.00000</td>\n",
       "      <td>178.256837</td>\n",
       "      <td>2470.0</td>\n",
       "      <td>2624.0</td>\n",
       "      <td>2778.0</td>\n",
       "      <td>2932.0</td>\n",
       "      <td>3086.0</td>\n",
       "    </tr>\n",
       "    <tr>\n",
       "      <th>276</th>\n",
       "      <td>617.0</td>\n",
       "      <td>9.19611</td>\n",
       "      <td>27.475824</td>\n",
       "      <td>1.0</td>\n",
       "      <td>2.0</td>\n",
       "      <td>2.0</td>\n",
       "      <td>7.0</td>\n",
       "      <td>400.0</td>\n",
       "    </tr>\n",
       "    <tr>\n",
       "      <th>0</th>\n",
       "      <td>617.0</td>\n",
       "      <td>0.00000</td>\n",
       "      <td>0.000000</td>\n",
       "      <td>0.0</td>\n",
       "      <td>0.0</td>\n",
       "      <td>0.0</td>\n",
       "      <td>0.0</td>\n",
       "      <td>0.0</td>\n",
       "    </tr>\n",
       "    <tr>\n",
       "      <th>4605</th>\n",
       "      <td>617.0</td>\n",
       "      <td>4605.00000</td>\n",
       "      <td>0.000000</td>\n",
       "      <td>4605.0</td>\n",
       "      <td>4605.0</td>\n",
       "      <td>4605.0</td>\n",
       "      <td>4605.0</td>\n",
       "      <td>4605.0</td>\n",
       "    </tr>\n",
       "  </tbody>\n",
       "</table>\n",
       "</div>"
      ],
      "text/plain": [
       "      count        mean         std     min     25%     50%     75%     max\n",
       "2469  617.0  2778.00000  178.256837  2470.0  2624.0  2778.0  2932.0  3086.0\n",
       "276   617.0     9.19611   27.475824     1.0     2.0     2.0     7.0   400.0\n",
       "0     617.0     0.00000    0.000000     0.0     0.0     0.0     0.0     0.0\n",
       "4605  617.0  4605.00000    0.000000  4605.0  4605.0  4605.0  4605.0  4605.0"
      ]
     },
     "execution_count": 3,
     "metadata": {},
     "output_type": "execute_result"
    }
   ],
   "source": [
    "birinci_klavuz.describe().T"
   ]
  },
  {
   "cell_type": "code",
   "execution_count": 4,
   "id": "61405556-14da-4664-afd4-08df80501ce2",
   "metadata": {},
   "outputs": [],
   "source": [
    "birinci_klavuz = birinci_klavuz.drop(columns = [\"2469\",\"4605\"])"
   ]
  },
  {
   "cell_type": "code",
   "execution_count": 5,
   "id": "fc86978d-a848-40c9-bd0b-cf2dcb748ce2",
   "metadata": {},
   "outputs": [],
   "source": [
    "birinci_klavuz = birinci_klavuz.rename(columns = {\"1.12.2020\": \"HISTORY\", \"Şişli Hamidiye Etfal EAH.\": \"HOSPITALS\", \"Hemşire (İstanbul) taşra\": \"CITIES\", \"276\": \"TOTAL QUOATA\",\"0\":\"VACANT\", \"73,72\":\"LOWEST POINT\",\"79,21\":\"HIGHEST POINT\"})"
   ]
  },
  {
   "cell_type": "code",
   "execution_count": 6,
   "id": "a944a935-a3b9-498d-845a-12e85a877bbc",
   "metadata": {},
   "outputs": [
    {
     "data": {
      "text/html": [
       "<div>\n",
       "<style scoped>\n",
       "    .dataframe tbody tr th:only-of-type {\n",
       "        vertical-align: middle;\n",
       "    }\n",
       "\n",
       "    .dataframe tbody tr th {\n",
       "        vertical-align: top;\n",
       "    }\n",
       "\n",
       "    .dataframe thead th {\n",
       "        text-align: right;\n",
       "    }\n",
       "</style>\n",
       "<table border=\"1\" class=\"dataframe\">\n",
       "  <thead>\n",
       "    <tr style=\"text-align: right;\">\n",
       "      <th></th>\n",
       "      <th>HISTORY</th>\n",
       "      <th>HOSPITALS</th>\n",
       "      <th>CITIES</th>\n",
       "      <th>TOTAL QUOATA</th>\n",
       "      <th>VACANT</th>\n",
       "      <th>LOWEST POINT</th>\n",
       "      <th>HIGHEST POINT</th>\n",
       "    </tr>\n",
       "  </thead>\n",
       "  <tbody>\n",
       "    <tr>\n",
       "      <th>0</th>\n",
       "      <td>1.12.2020</td>\n",
       "      <td>Posof İlçe Devlet Hast.</td>\n",
       "      <td>Hemşire (Ardahan) taşra</td>\n",
       "      <td>1</td>\n",
       "      <td>0</td>\n",
       "      <td>73,74</td>\n",
       "      <td>73,74</td>\n",
       "    </tr>\n",
       "    <tr>\n",
       "      <th>1</th>\n",
       "      <td>1.12.2020</td>\n",
       "      <td>Şiran Devlet Hast.</td>\n",
       "      <td>Hemşire (Gümüşhane) taşra</td>\n",
       "      <td>1</td>\n",
       "      <td>0</td>\n",
       "      <td>73,8</td>\n",
       "      <td>73,8</td>\n",
       "    </tr>\n",
       "    <tr>\n",
       "      <th>2</th>\n",
       "      <td>1.12.2020</td>\n",
       "      <td>Tekman Şehit Piyade Çavuş Muhammet Binici Devl...</td>\n",
       "      <td>Hemşire (Erzurum) taşra</td>\n",
       "      <td>5</td>\n",
       "      <td>0</td>\n",
       "      <td>74,16</td>\n",
       "      <td>74,52</td>\n",
       "    </tr>\n",
       "    <tr>\n",
       "      <th>3</th>\n",
       "      <td>1.12.2020</td>\n",
       "      <td>Narman İlçe Devlet Hast.</td>\n",
       "      <td>Hemşire (Erzurum) taşra</td>\n",
       "      <td>1</td>\n",
       "      <td>0</td>\n",
       "      <td>74,21</td>\n",
       "      <td>74,21</td>\n",
       "    </tr>\n",
       "    <tr>\n",
       "      <th>4</th>\n",
       "      <td>1.12.2020</td>\n",
       "      <td>Karaçoban İlçe Devlet Hast.</td>\n",
       "      <td>Hemşire (Erzurum) taşra</td>\n",
       "      <td>2</td>\n",
       "      <td>0</td>\n",
       "      <td>74,25</td>\n",
       "      <td>74,35</td>\n",
       "    </tr>\n",
       "  </tbody>\n",
       "</table>\n",
       "</div>"
      ],
      "text/plain": [
       "     HISTORY                                          HOSPITALS  \\\n",
       "0  1.12.2020                            Posof İlçe Devlet Hast.   \n",
       "1  1.12.2020                                 Şiran Devlet Hast.   \n",
       "2  1.12.2020  Tekman Şehit Piyade Çavuş Muhammet Binici Devl...   \n",
       "3  1.12.2020                           Narman İlçe Devlet Hast.   \n",
       "4  1.12.2020                        Karaçoban İlçe Devlet Hast.   \n",
       "\n",
       "                      CITIES  TOTAL QUOATA  VACANT LOWEST POINT HIGHEST POINT  \n",
       "0    Hemşire (Ardahan) taşra             1       0        73,74         73,74  \n",
       "1  Hemşire (Gümüşhane) taşra             1       0         73,8          73,8  \n",
       "2    Hemşire (Erzurum) taşra             5       0        74,16         74,52  \n",
       "3    Hemşire (Erzurum) taşra             1       0        74,21         74,21  \n",
       "4    Hemşire (Erzurum) taşra             2       0        74,25         74,35  "
      ]
     },
     "execution_count": 6,
     "metadata": {},
     "output_type": "execute_result"
    }
   ],
   "source": [
    "birinci_klavuz.head()"
   ]
  },
  {
   "cell_type": "code",
   "execution_count": 7,
   "id": "d4dc4e80-c4db-4c0b-9cda-f477ebe6d727",
   "metadata": {},
   "outputs": [],
   "source": [
    "regex = r'\\((.*?)\\)'\n"
   ]
  },
  {
   "cell_type": "code",
   "execution_count": 8,
   "id": "48878aac-6059-4867-ae06-541577ee205c",
   "metadata": {},
   "outputs": [
    {
     "data": {
      "text/html": [
       "<div>\n",
       "<style scoped>\n",
       "    .dataframe tbody tr th:only-of-type {\n",
       "        vertical-align: middle;\n",
       "    }\n",
       "\n",
       "    .dataframe tbody tr th {\n",
       "        vertical-align: top;\n",
       "    }\n",
       "\n",
       "    .dataframe thead th {\n",
       "        text-align: right;\n",
       "    }\n",
       "</style>\n",
       "<table border=\"1\" class=\"dataframe\">\n",
       "  <thead>\n",
       "    <tr style=\"text-align: right;\">\n",
       "      <th></th>\n",
       "      <th>HISTORY</th>\n",
       "      <th>HOSPITALS</th>\n",
       "      <th>CITIES</th>\n",
       "      <th>TOTAL QUOATA</th>\n",
       "      <th>VACANT</th>\n",
       "      <th>LOWEST POINT</th>\n",
       "      <th>HIGHEST POINT</th>\n",
       "    </tr>\n",
       "  </thead>\n",
       "  <tbody>\n",
       "    <tr>\n",
       "      <th>0</th>\n",
       "      <td>1.12.2020</td>\n",
       "      <td>Posof İlçe Devlet Hast.</td>\n",
       "      <td>Ardahan</td>\n",
       "      <td>1</td>\n",
       "      <td>0</td>\n",
       "      <td>73,74</td>\n",
       "      <td>73,74</td>\n",
       "    </tr>\n",
       "    <tr>\n",
       "      <th>1</th>\n",
       "      <td>1.12.2020</td>\n",
       "      <td>Şiran Devlet Hast.</td>\n",
       "      <td>Gümüşhane</td>\n",
       "      <td>1</td>\n",
       "      <td>0</td>\n",
       "      <td>73,8</td>\n",
       "      <td>73,8</td>\n",
       "    </tr>\n",
       "    <tr>\n",
       "      <th>2</th>\n",
       "      <td>1.12.2020</td>\n",
       "      <td>Tekman Şehit Piyade Çavuş Muhammet Binici Devl...</td>\n",
       "      <td>Erzurum</td>\n",
       "      <td>5</td>\n",
       "      <td>0</td>\n",
       "      <td>74,16</td>\n",
       "      <td>74,52</td>\n",
       "    </tr>\n",
       "    <tr>\n",
       "      <th>3</th>\n",
       "      <td>1.12.2020</td>\n",
       "      <td>Narman İlçe Devlet Hast.</td>\n",
       "      <td>Erzurum</td>\n",
       "      <td>1</td>\n",
       "      <td>0</td>\n",
       "      <td>74,21</td>\n",
       "      <td>74,21</td>\n",
       "    </tr>\n",
       "    <tr>\n",
       "      <th>4</th>\n",
       "      <td>1.12.2020</td>\n",
       "      <td>Karaçoban İlçe Devlet Hast.</td>\n",
       "      <td>Erzurum</td>\n",
       "      <td>2</td>\n",
       "      <td>0</td>\n",
       "      <td>74,25</td>\n",
       "      <td>74,35</td>\n",
       "    </tr>\n",
       "  </tbody>\n",
       "</table>\n",
       "</div>"
      ],
      "text/plain": [
       "     HISTORY                                          HOSPITALS     CITIES  \\\n",
       "0  1.12.2020                            Posof İlçe Devlet Hast.    Ardahan   \n",
       "1  1.12.2020                                 Şiran Devlet Hast.  Gümüşhane   \n",
       "2  1.12.2020  Tekman Şehit Piyade Çavuş Muhammet Binici Devl...    Erzurum   \n",
       "3  1.12.2020                           Narman İlçe Devlet Hast.    Erzurum   \n",
       "4  1.12.2020                        Karaçoban İlçe Devlet Hast.    Erzurum   \n",
       "\n",
       "   TOTAL QUOATA  VACANT LOWEST POINT HIGHEST POINT  \n",
       "0             1       0        73,74         73,74  \n",
       "1             1       0         73,8          73,8  \n",
       "2             5       0        74,16         74,52  \n",
       "3             1       0        74,21         74,21  \n",
       "4             2       0        74,25         74,35  "
      ]
     },
     "execution_count": 8,
     "metadata": {},
     "output_type": "execute_result"
    }
   ],
   "source": [
    "birinci_klavuz.CITIES = birinci_klavuz.CITIES.str.extract(regex)\n",
    "birinci_klavuz.head()"
   ]
  },
  {
   "cell_type": "code",
   "execution_count": 9,
   "id": "781dba92-869c-4e9e-8327-1ece78596841",
   "metadata": {},
   "outputs": [
    {
     "data": {
      "text/html": [
       "<div>\n",
       "<style scoped>\n",
       "    .dataframe tbody tr th:only-of-type {\n",
       "        vertical-align: middle;\n",
       "    }\n",
       "\n",
       "    .dataframe tbody tr th {\n",
       "        vertical-align: top;\n",
       "    }\n",
       "\n",
       "    .dataframe thead th {\n",
       "        text-align: right;\n",
       "    }\n",
       "</style>\n",
       "<table border=\"1\" class=\"dataframe\">\n",
       "  <thead>\n",
       "    <tr style=\"text-align: right;\">\n",
       "      <th></th>\n",
       "      <th>CITIES</th>\n",
       "      <th>REGIONS</th>\n",
       "    </tr>\n",
       "  </thead>\n",
       "  <tbody>\n",
       "    <tr>\n",
       "      <th>0</th>\n",
       "      <td>Adana</td>\n",
       "      <td>Akdeniz Bölgesi</td>\n",
       "    </tr>\n",
       "    <tr>\n",
       "      <th>1</th>\n",
       "      <td>Adıyaman</td>\n",
       "      <td>Güneydoğu Anadolu Bölgesi</td>\n",
       "    </tr>\n",
       "    <tr>\n",
       "      <th>2</th>\n",
       "      <td>Afyonkarahisar</td>\n",
       "      <td>Ege Bölgesi</td>\n",
       "    </tr>\n",
       "    <tr>\n",
       "      <th>3</th>\n",
       "      <td>Ağrı</td>\n",
       "      <td>Doğu Anadolu Bölgesi</td>\n",
       "    </tr>\n",
       "    <tr>\n",
       "      <th>4</th>\n",
       "      <td>Amasya</td>\n",
       "      <td>Karadeniz Bölgesi</td>\n",
       "    </tr>\n",
       "  </tbody>\n",
       "</table>\n",
       "</div>"
      ],
      "text/plain": [
       "           CITIES                    REGIONS\n",
       "0           Adana            Akdeniz Bölgesi\n",
       "1        Adıyaman  Güneydoğu Anadolu Bölgesi\n",
       "2  Afyonkarahisar                Ege Bölgesi\n",
       "3            Ağrı       Doğu Anadolu Bölgesi\n",
       "4          Amasya          Karadeniz Bölgesi"
      ]
     },
     "execution_count": 9,
     "metadata": {},
     "output_type": "execute_result"
    }
   ],
   "source": [
    "regions = pd.read_csv(\"https://raw.githubusercontent.com/hasanbarisgok/TurkiyeSehirlerBolgeler/master/csv/sehirler_ve_bolgeler.csv\")\n",
    "regions = regions[[\"SehirAd\",\"BolgeAd\"]]\n",
    "regions = regions.rename(columns = {\"SehirAd\":\"CITIES\",\"BolgeAd\":\"REGIONS\"})\n",
    "regions.head()"
   ]
  },
  {
   "cell_type": "code",
   "execution_count": 10,
   "id": "58947783-61fc-4af0-81e5-7358c8617308",
   "metadata": {},
   "outputs": [],
   "source": [
    "birinci_klavuz = birinci_klavuz.merge(regions, how = \"inner\", on = \"CITIES\")"
   ]
  },
  {
   "cell_type": "code",
   "execution_count": 11,
   "id": "98890ecb-3d7b-453d-9ffc-4005137aa3a7",
   "metadata": {},
   "outputs": [
    {
     "data": {
      "text/html": [
       "<div>\n",
       "<style scoped>\n",
       "    .dataframe tbody tr th:only-of-type {\n",
       "        vertical-align: middle;\n",
       "    }\n",
       "\n",
       "    .dataframe tbody tr th {\n",
       "        vertical-align: top;\n",
       "    }\n",
       "\n",
       "    .dataframe thead th {\n",
       "        text-align: right;\n",
       "    }\n",
       "</style>\n",
       "<table border=\"1\" class=\"dataframe\">\n",
       "  <thead>\n",
       "    <tr style=\"text-align: right;\">\n",
       "      <th></th>\n",
       "      <th>HISTORY</th>\n",
       "      <th>HOSPITALS</th>\n",
       "      <th>CITIES</th>\n",
       "      <th>TOTAL QUOATA</th>\n",
       "      <th>VACANT</th>\n",
       "      <th>LOWEST POINT</th>\n",
       "      <th>HIGHEST POINT</th>\n",
       "      <th>REGIONS</th>\n",
       "    </tr>\n",
       "  </thead>\n",
       "  <tbody>\n",
       "    <tr>\n",
       "      <th>0</th>\n",
       "      <td>1.12.2020</td>\n",
       "      <td>Posof İlçe Devlet Hast.</td>\n",
       "      <td>Ardahan</td>\n",
       "      <td>1</td>\n",
       "      <td>0</td>\n",
       "      <td>73,74</td>\n",
       "      <td>73,74</td>\n",
       "      <td>Doğu Anadolu Bölgesi</td>\n",
       "    </tr>\n",
       "    <tr>\n",
       "      <th>1</th>\n",
       "      <td>1.12.2020</td>\n",
       "      <td>Göle Devlet Hast.</td>\n",
       "      <td>Ardahan</td>\n",
       "      <td>2</td>\n",
       "      <td>0</td>\n",
       "      <td>74,32</td>\n",
       "      <td>74,63</td>\n",
       "      <td>Doğu Anadolu Bölgesi</td>\n",
       "    </tr>\n",
       "    <tr>\n",
       "      <th>2</th>\n",
       "      <td>1.12.2020</td>\n",
       "      <td>Ardahan Devlet Hast.</td>\n",
       "      <td>Ardahan</td>\n",
       "      <td>5</td>\n",
       "      <td>0</td>\n",
       "      <td>75,36</td>\n",
       "      <td>75,93</td>\n",
       "      <td>Doğu Anadolu Bölgesi</td>\n",
       "    </tr>\n",
       "    <tr>\n",
       "      <th>3</th>\n",
       "      <td>1.12.2020</td>\n",
       "      <td>Ardahan Çıldır TSM.</td>\n",
       "      <td>Ardahan</td>\n",
       "      <td>1</td>\n",
       "      <td>0</td>\n",
       "      <td>76</td>\n",
       "      <td>76</td>\n",
       "      <td>Doğu Anadolu Bölgesi</td>\n",
       "    </tr>\n",
       "    <tr>\n",
       "      <th>4</th>\n",
       "      <td>1.12.2020</td>\n",
       "      <td>Şiran Devlet Hast.</td>\n",
       "      <td>Gümüşhane</td>\n",
       "      <td>1</td>\n",
       "      <td>0</td>\n",
       "      <td>73,8</td>\n",
       "      <td>73,8</td>\n",
       "      <td>Karadeniz Bölgesi</td>\n",
       "    </tr>\n",
       "  </tbody>\n",
       "</table>\n",
       "</div>"
      ],
      "text/plain": [
       "     HISTORY                HOSPITALS     CITIES  TOTAL QUOATA  VACANT  \\\n",
       "0  1.12.2020  Posof İlçe Devlet Hast.    Ardahan             1       0   \n",
       "1  1.12.2020        Göle Devlet Hast.    Ardahan             2       0   \n",
       "2  1.12.2020     Ardahan Devlet Hast.    Ardahan             5       0   \n",
       "3  1.12.2020      Ardahan Çıldır TSM.    Ardahan             1       0   \n",
       "4  1.12.2020       Şiran Devlet Hast.  Gümüşhane             1       0   \n",
       "\n",
       "  LOWEST POINT HIGHEST POINT               REGIONS  \n",
       "0        73,74         73,74  Doğu Anadolu Bölgesi  \n",
       "1        74,32         74,63  Doğu Anadolu Bölgesi  \n",
       "2        75,36         75,93  Doğu Anadolu Bölgesi  \n",
       "3           76            76  Doğu Anadolu Bölgesi  \n",
       "4         73,8          73,8     Karadeniz Bölgesi  "
      ]
     },
     "execution_count": 11,
     "metadata": {},
     "output_type": "execute_result"
    }
   ],
   "source": [
    "birinci_klavuz.head()"
   ]
  },
  {
   "cell_type": "code",
   "execution_count": 12,
   "id": "6ef8f401-3a3e-4871-a163-815d72612505",
   "metadata": {},
   "outputs": [
    {
     "data": {
      "text/plain": [
       "(617, 8)"
      ]
     },
     "execution_count": 12,
     "metadata": {},
     "output_type": "execute_result"
    }
   ],
   "source": [
    "birinci_klavuz.shape"
   ]
  },
  {
   "cell_type": "code",
   "execution_count": 13,
   "id": "60b37dbc-daf7-4ed1-904b-d85d39b5197b",
   "metadata": {},
   "outputs": [
    {
     "data": {
      "text/plain": [
       "400"
      ]
     },
     "execution_count": 13,
     "metadata": {},
     "output_type": "execute_result"
    }
   ],
   "source": [
    "birinci_klavuz[\"TOTAL QUOATA\"].max()"
   ]
  },
  {
   "cell_type": "code",
   "execution_count": 14,
   "id": "f0b710f0-647a-4bbd-8fa4-d0116971e1bc",
   "metadata": {},
   "outputs": [
    {
     "data": {
      "text/plain": [
       "1"
      ]
     },
     "execution_count": 14,
     "metadata": {},
     "output_type": "execute_result"
    }
   ],
   "source": [
    "birinci_klavuz[\"TOTAL QUOATA\"].min()"
   ]
  },
  {
   "cell_type": "code",
   "execution_count": 15,
   "id": "99f10e32-392c-4ff9-a924-b4740b7a1abf",
   "metadata": {},
   "outputs": [],
   "source": [
    "dogu_anadolu = birinci_klavuz.loc[birinci_klavuz[\"REGIONS\"] == \"Doğu Anadolu Bölgesi\"]\n",
    "karadeniz = birinci_klavuz.loc[birinci_klavuz[\"REGIONS\"] == \"Karadeniz\"]\n",
    "ege = birinci_klavuz.loc[birinci_klavuz[\"REGIONS\"] == \"Ege Bölgesi\"]\n",
    "akdeniz = birinci_klavuz.loc[birinci_klavuz[\"REGIONS\"] == \"Akdeniz Bölgesi\"]\n",
    "marmara = birinci_klavuz.loc[birinci_klavuz[\"REGIONS\"] == \"Marmara Bölgesi\"]"
   ]
  },
  {
   "cell_type": "code",
   "execution_count": 16,
   "id": "52ecc4a8-55db-4a7d-9d6e-ada7330755c9",
   "metadata": {},
   "outputs": [],
   "source": [
    "dogu_anadolu.to_csv(\"dogu_anadolu.csv\",encoding='utf-8-sig')\n",
    "karadeniz.to_csv(\"karadeniz.csv\",encoding='utf-8-sig')\n",
    "ege.to_csv(\"ege.csv\",encoding='utf-8-sig')\n",
    "akdeniz.to_csv(\"akdeniz.csv\",encoding='utf-8-sig')\n",
    "marmara.to_csv(\"marmara.csv\",encoding='utf-8-sig')"
   ]
  }
 ],
 "metadata": {
  "kernelspec": {
   "display_name": "Python 3 (ipykernel)",
   "language": "python",
   "name": "python3"
  },
  "language_info": {
   "codemirror_mode": {
    "name": "ipython",
    "version": 3
   },
   "file_extension": ".py",
   "mimetype": "text/x-python",
   "name": "python",
   "nbconvert_exporter": "python",
   "pygments_lexer": "ipython3",
   "version": "3.9.13"
  }
 },
 "nbformat": 4,
 "nbformat_minor": 5
}
