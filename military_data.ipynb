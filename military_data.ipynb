{
 "cells": [
  {
   "cell_type": "markdown",
   "id": "957fdf44-499a-448e-a459-97e59e000c9f",
   "metadata": {},
   "source": [
    "# Militray_Data:"
   ]
  },
  {
   "cell_type": "code",
   "execution_count": 1,
   "id": "c14d9ab4-1bcc-4f57-8a0e-e92cc49c186e",
   "metadata": {},
   "outputs": [],
   "source": [
    "import pandas as pd "
   ]
  },
  {
   "cell_type": "code",
   "execution_count": 2,
   "id": "ec0704b2-f1bc-4b14-8ac6-9475a19b1dc9",
   "metadata": {},
   "outputs": [
    {
     "name": "stdout",
     "output_type": "stream",
     "text": [
      "<class 'pandas.core.frame.DataFrame'>\n",
      "RangeIndex: 172 entries, 0 to 171\n",
      "Data columns (total 7 columns):\n",
      " #   Column                    Non-Null Count  Dtype  \n",
      "---  ------                    --------------  -----  \n",
      " 0   Country                   172 non-null    object \n",
      " 1   Active military           171 non-null    object \n",
      " 2   Reserve military          171 non-null    object \n",
      " 3   Paramilitary              171 non-null    object \n",
      " 4   Total                     172 non-null    object \n",
      " 5   Per 1000 capita (total)   172 non-null    float64\n",
      " 6   Per 1000 capita (active)  171 non-null    float64\n",
      "dtypes: float64(2), object(5)\n",
      "memory usage: 9.5+ KB\n"
     ]
    }
   ],
   "source": [
    "military_data = pd.read_csv(\"https://raw.githubusercontent.com/hasanbarisgok/DataScience/main/opensource-datas/military_data.csv\")\n",
    "df = military_data\n",
    "df.info()"
   ]
  },
  {
   "cell_type": "code",
   "execution_count": 3,
   "id": "73e2030a-4f3a-40fc-9ee1-6c012c09bf17",
   "metadata": {},
   "outputs": [
    {
     "data": {
      "text/html": [
       "<div>\n",
       "<style scoped>\n",
       "    .dataframe tbody tr th:only-of-type {\n",
       "        vertical-align: middle;\n",
       "    }\n",
       "\n",
       "    .dataframe tbody tr th {\n",
       "        vertical-align: top;\n",
       "    }\n",
       "\n",
       "    .dataframe thead th {\n",
       "        text-align: right;\n",
       "    }\n",
       "</style>\n",
       "<table border=\"1\" class=\"dataframe\">\n",
       "  <thead>\n",
       "    <tr style=\"text-align: right;\">\n",
       "      <th></th>\n",
       "      <th>Country</th>\n",
       "      <th>Active military</th>\n",
       "      <th>Reserve military</th>\n",
       "      <th>Paramilitary</th>\n",
       "      <th>Total</th>\n",
       "      <th>Per 1000 capita (total)</th>\n",
       "      <th>Per 1000 capita (active)</th>\n",
       "    </tr>\n",
       "  </thead>\n",
       "  <tbody>\n",
       "    <tr>\n",
       "      <th>0</th>\n",
       "      <td>Afghanistan</td>\n",
       "      <td>171,200</td>\n",
       "      <td>0</td>\n",
       "      <td>148,200</td>\n",
       "      <td>319,400</td>\n",
       "      <td>9.6</td>\n",
       "      <td>5.1</td>\n",
       "    </tr>\n",
       "    <tr>\n",
       "      <th>1</th>\n",
       "      <td>Albania</td>\n",
       "      <td>8,000</td>\n",
       "      <td>0</td>\n",
       "      <td>500</td>\n",
       "      <td>8,500</td>\n",
       "      <td>2.8</td>\n",
       "      <td>2.6</td>\n",
       "    </tr>\n",
       "    <tr>\n",
       "      <th>2</th>\n",
       "      <td>Algeria</td>\n",
       "      <td>130,000</td>\n",
       "      <td>150,000</td>\n",
       "      <td>187,200</td>\n",
       "      <td>467,200</td>\n",
       "      <td>11.6</td>\n",
       "      <td>3.2</td>\n",
       "    </tr>\n",
       "    <tr>\n",
       "      <th>3</th>\n",
       "      <td>Angola</td>\n",
       "      <td>107,000</td>\n",
       "      <td>0</td>\n",
       "      <td>10,000</td>\n",
       "      <td>117,000</td>\n",
       "      <td>5.8</td>\n",
       "      <td>5.3</td>\n",
       "    </tr>\n",
       "    <tr>\n",
       "      <th>4</th>\n",
       "      <td>Antigua and Barbuda</td>\n",
       "      <td>180</td>\n",
       "      <td>80</td>\n",
       "      <td>0</td>\n",
       "      <td>260</td>\n",
       "      <td>2.8</td>\n",
       "      <td>1.9</td>\n",
       "    </tr>\n",
       "  </tbody>\n",
       "</table>\n",
       "</div>"
      ],
      "text/plain": [
       "              Country  Active military Reserve military Paramilitary    Total  \\\n",
       "0          Afghanistan         171,200                0      148,200  319,400   \n",
       "1              Albania           8,000                0          500    8,500   \n",
       "2              Algeria         130,000          150,000      187,200  467,200   \n",
       "3               Angola         107,000                0       10,000  117,000   \n",
       "4  Antigua and Barbuda             180               80            0      260   \n",
       "\n",
       "   Per 1000 capita (total)  Per 1000 capita (active)  \n",
       "0                      9.6                       5.1  \n",
       "1                      2.8                       2.6  \n",
       "2                     11.6                       3.2  \n",
       "3                      5.8                       5.3  \n",
       "4                      2.8                       1.9  "
      ]
     },
     "execution_count": 3,
     "metadata": {},
     "output_type": "execute_result"
    }
   ],
   "source": [
    "df.head()"
   ]
  },
  {
   "cell_type": "code",
   "execution_count": 4,
   "id": "2b728378-e913-4ee1-a54f-9f522639538b",
   "metadata": {},
   "outputs": [
    {
     "name": "stdout",
     "output_type": "stream",
     "text": [
      "       Per 1000 capita (total)  Per 1000 capita (active)\n",
      "count               172.000000                171.000000\n",
      "mean                 14.497093                  4.166667\n",
      "std                  33.109945                  5.366925\n",
      "min                   0.000000                  0.000000\n",
      "25%                   2.275000                  1.500000\n",
      "50%                   4.850000                  2.700000\n",
      "75%                  11.150000                  4.650000\n",
      "max                 305.700000                 47.400000\n"
     ]
    }
   ],
   "source": [
    "print(df.describe())"
   ]
  },
  {
   "cell_type": "code",
   "execution_count": 5,
   "id": "970de5aa-5f74-4f72-8ff8-7e79e9499556",
   "metadata": {},
   "outputs": [],
   "source": [
    "df['Active military'] = df['Active military'].str.replace(',', '', regex=True)\n",
    "df['Reserve military'] = df['Reserve military'].str.replace(',', '', regex=True)\n",
    "df['Paramilitary'] = df['Paramilitary'].str.replace(',', '', regex=True)\n",
    "df['Total'] = df['Total'].str.replace(',', '', regex=True)"
   ]
  },
  {
   "cell_type": "code",
   "execution_count": 6,
   "id": "1137e3da-4082-4eef-803a-b357aab8ddd1",
   "metadata": {},
   "outputs": [],
   "source": [
    "df = df.dropna()"
   ]
  },
  {
   "cell_type": "code",
   "execution_count": 7,
   "id": "936590b6-9734-486b-8299-6a2bae298495",
   "metadata": {},
   "outputs": [],
   "source": [
    "df[['Active military','Reserve military','Paramilitary','Total']] = df[['Active military','Reserve military','Paramilitary','Total']].astype(int)"
   ]
  },
  {
   "cell_type": "code",
   "execution_count": 8,
   "id": "e108916b-17f9-48a6-9e9c-de2d5ba6ab14",
   "metadata": {},
   "outputs": [
    {
     "name": "stdout",
     "output_type": "stream",
     "text": [
      "<class 'pandas.core.frame.DataFrame'>\n",
      "Int64Index: 171 entries, 0 to 171\n",
      "Data columns (total 7 columns):\n",
      " #   Column                    Non-Null Count  Dtype  \n",
      "---  ------                    --------------  -----  \n",
      " 0   Country                   171 non-null    object \n",
      " 1   Active military           171 non-null    int32  \n",
      " 2   Reserve military          171 non-null    int32  \n",
      " 3   Paramilitary              171 non-null    int32  \n",
      " 4   Total                     171 non-null    int32  \n",
      " 5   Per 1000 capita (total)   171 non-null    float64\n",
      " 6   Per 1000 capita (active)  171 non-null    float64\n",
      "dtypes: float64(2), int32(4), object(1)\n",
      "memory usage: 8.0+ KB\n"
     ]
    }
   ],
   "source": [
    "df.info()"
   ]
  },
  {
   "cell_type": "code",
   "execution_count": 9,
   "id": "42dc2a9c-c553-43e3-987b-df81603be6a1",
   "metadata": {},
   "outputs": [
    {
     "data": {
      "text/html": [
       "<div>\n",
       "<style scoped>\n",
       "    .dataframe tbody tr th:only-of-type {\n",
       "        vertical-align: middle;\n",
       "    }\n",
       "\n",
       "    .dataframe tbody tr th {\n",
       "        vertical-align: top;\n",
       "    }\n",
       "\n",
       "    .dataframe thead th {\n",
       "        text-align: right;\n",
       "    }\n",
       "</style>\n",
       "<table border=\"1\" class=\"dataframe\">\n",
       "  <thead>\n",
       "    <tr style=\"text-align: right;\">\n",
       "      <th></th>\n",
       "      <th>Country</th>\n",
       "      <th>Active military</th>\n",
       "      <th>Reserve military</th>\n",
       "      <th>Paramilitary</th>\n",
       "      <th>Total</th>\n",
       "      <th>Per 1000 capita (total)</th>\n",
       "      <th>Per 1000 capita (active)</th>\n",
       "    </tr>\n",
       "  </thead>\n",
       "  <tbody>\n",
       "    <tr>\n",
       "      <th>33</th>\n",
       "      <td>People's Republic of China</td>\n",
       "      <td>2183000</td>\n",
       "      <td>510000</td>\n",
       "      <td>660000</td>\n",
       "      <td>3353000</td>\n",
       "      <td>2.4</td>\n",
       "      <td>1.6</td>\n",
       "    </tr>\n",
       "    <tr>\n",
       "      <th>69</th>\n",
       "      <td>India</td>\n",
       "      <td>1395100</td>\n",
       "      <td>2142800</td>\n",
       "      <td>1403700</td>\n",
       "      <td>4941600</td>\n",
       "      <td>3.9</td>\n",
       "      <td>1.1</td>\n",
       "    </tr>\n",
       "    <tr>\n",
       "      <th>164</th>\n",
       "      <td>United States of America</td>\n",
       "      <td>1347300</td>\n",
       "      <td>865050</td>\n",
       "      <td>14850</td>\n",
       "      <td>2227200</td>\n",
       "      <td>6.9</td>\n",
       "      <td>4.2</td>\n",
       "    </tr>\n",
       "    <tr>\n",
       "      <th>113</th>\n",
       "      <td>North Korea</td>\n",
       "      <td>1190000</td>\n",
       "      <td>6300000</td>\n",
       "      <td>189000</td>\n",
       "      <td>7679000</td>\n",
       "      <td>305.7</td>\n",
       "      <td>47.4</td>\n",
       "    </tr>\n",
       "    <tr>\n",
       "      <th>129</th>\n",
       "      <td>Russia</td>\n",
       "      <td>1013000</td>\n",
       "      <td>2500000</td>\n",
       "      <td>710000</td>\n",
       "      <td>4223000</td>\n",
       "      <td>29.7</td>\n",
       "      <td>7.1</td>\n",
       "    </tr>\n",
       "  </tbody>\n",
       "</table>\n",
       "</div>"
      ],
      "text/plain": [
       "                       Country   Active military  Reserve military  \\\n",
       "33   People's Republic of China          2183000            510000   \n",
       "69                        India          1395100           2142800   \n",
       "164    United States of America          1347300            865050   \n",
       "113                 North Korea          1190000           6300000   \n",
       "129                      Russia          1013000           2500000   \n",
       "\n",
       "     Paramilitary    Total  Per 1000 capita (total)  Per 1000 capita (active)  \n",
       "33         660000  3353000                      2.4                       1.6  \n",
       "69        1403700  4941600                      3.9                       1.1  \n",
       "164         14850  2227200                      6.9                       4.2  \n",
       "113        189000  7679000                    305.7                      47.4  \n",
       "129        710000  4223000                     29.7                       7.1  "
      ]
     },
     "execution_count": 9,
     "metadata": {},
     "output_type": "execute_result"
    }
   ],
   "source": [
    "df = df.sort_values(by=\"Active military\", ascending = False)\n",
    "df.head()"
   ]
  },
  {
   "cell_type": "code",
   "execution_count": 14,
   "id": "0841929e-192b-461a-b357-7feac145a67b",
   "metadata": {},
   "outputs": [
    {
     "data": {
      "text/plain": [
       "33"
      ]
     },
     "execution_count": 14,
     "metadata": {},
     "output_type": "execute_result"
    }
   ],
   "source": [
    "len(df[df[\"Active military\"] > 150000])"
   ]
  },
  {
   "cell_type": "code",
   "execution_count": 17,
   "id": "c3ddc4f2-d19d-4d27-880d-e9e0dcd3dd36",
   "metadata": {},
   "outputs": [
    {
     "data": {
      "text/html": [
       "<div>\n",
       "<style scoped>\n",
       "    .dataframe tbody tr th:only-of-type {\n",
       "        vertical-align: middle;\n",
       "    }\n",
       "\n",
       "    .dataframe tbody tr th {\n",
       "        vertical-align: top;\n",
       "    }\n",
       "\n",
       "    .dataframe thead th {\n",
       "        text-align: right;\n",
       "    }\n",
       "</style>\n",
       "<table border=\"1\" class=\"dataframe\">\n",
       "  <thead>\n",
       "    <tr style=\"text-align: right;\">\n",
       "      <th></th>\n",
       "      <th>Country</th>\n",
       "      <th>Active military</th>\n",
       "      <th>Reserve military</th>\n",
       "      <th>Paramilitary</th>\n",
       "      <th>Total</th>\n",
       "      <th>Per 1000 capita (total)</th>\n",
       "      <th>Per 1000 capita (active)</th>\n",
       "    </tr>\n",
       "  </thead>\n",
       "  <tbody>\n",
       "    <tr>\n",
       "      <th>33</th>\n",
       "      <td>People's Republic of China</td>\n",
       "      <td>2183000</td>\n",
       "      <td>510000</td>\n",
       "      <td>660000</td>\n",
       "      <td>3353000</td>\n",
       "      <td>2.4</td>\n",
       "      <td>1.6</td>\n",
       "    </tr>\n",
       "    <tr>\n",
       "      <th>69</th>\n",
       "      <td>India</td>\n",
       "      <td>1395100</td>\n",
       "      <td>2142800</td>\n",
       "      <td>1403700</td>\n",
       "      <td>4941600</td>\n",
       "      <td>3.9</td>\n",
       "      <td>1.1</td>\n",
       "    </tr>\n",
       "    <tr>\n",
       "      <th>164</th>\n",
       "      <td>United States of America</td>\n",
       "      <td>1347300</td>\n",
       "      <td>865050</td>\n",
       "      <td>14850</td>\n",
       "      <td>2227200</td>\n",
       "      <td>6.9</td>\n",
       "      <td>4.2</td>\n",
       "    </tr>\n",
       "    <tr>\n",
       "      <th>113</th>\n",
       "      <td>North Korea</td>\n",
       "      <td>1190000</td>\n",
       "      <td>6300000</td>\n",
       "      <td>189000</td>\n",
       "      <td>7679000</td>\n",
       "      <td>305.7</td>\n",
       "      <td>47.4</td>\n",
       "    </tr>\n",
       "    <tr>\n",
       "      <th>129</th>\n",
       "      <td>Russia</td>\n",
       "      <td>1013000</td>\n",
       "      <td>2500000</td>\n",
       "      <td>710000</td>\n",
       "      <td>4223000</td>\n",
       "      <td>29.7</td>\n",
       "      <td>7.1</td>\n",
       "    </tr>\n",
       "  </tbody>\n",
       "</table>\n",
       "</div>"
      ],
      "text/plain": [
       "                       Country   Active military  Reserve military  \\\n",
       "33   People's Republic of China          2183000            510000   \n",
       "69                        India          1395100           2142800   \n",
       "164    United States of America          1347300            865050   \n",
       "113                 North Korea          1190000           6300000   \n",
       "129                      Russia          1013000           2500000   \n",
       "\n",
       "     Paramilitary    Total  Per 1000 capita (total)  Per 1000 capita (active)  \n",
       "33         660000  3353000                      2.4                       1.6  \n",
       "69        1403700  4941600                      3.9                       1.1  \n",
       "164         14850  2227200                      6.9                       4.2  \n",
       "113        189000  7679000                    305.7                      47.4  \n",
       "129        710000  4223000                     29.7                       7.1  "
      ]
     },
     "execution_count": 17,
     "metadata": {},
     "output_type": "execute_result"
    }
   ],
   "source": [
    "df[df[\"Active military\"] > 150000].sort_values(by=\"Active military\", ascending = False).head()"
   ]
  },
  {
   "cell_type": "code",
   "execution_count": 18,
   "id": "0b5abc6a-514b-4b42-aa0b-7f5642d082f5",
   "metadata": {},
   "outputs": [
    {
     "data": {
      "text/html": [
       "<div>\n",
       "<style scoped>\n",
       "    .dataframe tbody tr th:only-of-type {\n",
       "        vertical-align: middle;\n",
       "    }\n",
       "\n",
       "    .dataframe tbody tr th {\n",
       "        vertical-align: top;\n",
       "    }\n",
       "\n",
       "    .dataframe thead th {\n",
       "        text-align: right;\n",
       "    }\n",
       "</style>\n",
       "<table border=\"1\" class=\"dataframe\">\n",
       "  <thead>\n",
       "    <tr style=\"text-align: right;\">\n",
       "      <th></th>\n",
       "      <th>Country</th>\n",
       "      <th>Active military</th>\n",
       "      <th>Reserve military</th>\n",
       "      <th>Paramilitary</th>\n",
       "      <th>Total</th>\n",
       "      <th>Per 1000 capita (total)</th>\n",
       "      <th>Per 1000 capita (active)</th>\n",
       "    </tr>\n",
       "  </thead>\n",
       "  <tbody>\n",
       "    <tr>\n",
       "      <th>141</th>\n",
       "      <td>South Korea</td>\n",
       "      <td>630000</td>\n",
       "      <td>7500000</td>\n",
       "      <td>4500</td>\n",
       "      <td>8134500</td>\n",
       "      <td>159.7</td>\n",
       "      <td>12.4</td>\n",
       "    </tr>\n",
       "    <tr>\n",
       "      <th>113</th>\n",
       "      <td>North Korea</td>\n",
       "      <td>1190000</td>\n",
       "      <td>6300000</td>\n",
       "      <td>189000</td>\n",
       "      <td>7679000</td>\n",
       "      <td>305.7</td>\n",
       "      <td>47.4</td>\n",
       "    </tr>\n",
       "    <tr>\n",
       "      <th>168</th>\n",
       "      <td>Vietnam</td>\n",
       "      <td>482000</td>\n",
       "      <td>5000000</td>\n",
       "      <td>40000</td>\n",
       "      <td>5522000</td>\n",
       "      <td>58.0</td>\n",
       "      <td>5.1</td>\n",
       "    </tr>\n",
       "    <tr>\n",
       "      <th>69</th>\n",
       "      <td>India</td>\n",
       "      <td>1395100</td>\n",
       "      <td>2142800</td>\n",
       "      <td>1403700</td>\n",
       "      <td>4941600</td>\n",
       "      <td>3.9</td>\n",
       "      <td>1.1</td>\n",
       "    </tr>\n",
       "    <tr>\n",
       "      <th>129</th>\n",
       "      <td>Russia</td>\n",
       "      <td>1013000</td>\n",
       "      <td>2500000</td>\n",
       "      <td>710000</td>\n",
       "      <td>4223000</td>\n",
       "      <td>29.7</td>\n",
       "      <td>7.1</td>\n",
       "    </tr>\n",
       "  </tbody>\n",
       "</table>\n",
       "</div>"
      ],
      "text/plain": [
       "        Country   Active military  Reserve military  Paramilitary    Total  \\\n",
       "141  South Korea           630000           7500000          4500  8134500   \n",
       "113  North Korea          1190000           6300000        189000  7679000   \n",
       "168      Vietnam           482000           5000000         40000  5522000   \n",
       "69         India          1395100           2142800       1403700  4941600   \n",
       "129       Russia          1013000           2500000        710000  4223000   \n",
       "\n",
       "     Per 1000 capita (total)  Per 1000 capita (active)  \n",
       "141                    159.7                      12.4  \n",
       "113                    305.7                      47.4  \n",
       "168                     58.0                       5.1  \n",
       "69                       3.9                       1.1  \n",
       "129                     29.7                       7.1  "
      ]
     },
     "execution_count": 18,
     "metadata": {},
     "output_type": "execute_result"
    }
   ],
   "source": [
    "df[df[\"Active military\"] > 150000].sort_values(by=\"Total\", ascending = False).head()"
   ]
  },
  {
   "cell_type": "code",
   "execution_count": null,
   "id": "4e94fdc6-b500-4741-94cf-61bcd116dff1",
   "metadata": {},
   "outputs": [],
   "source": []
  }
 ],
 "metadata": {
  "kernelspec": {
   "display_name": "Python 3 (ipykernel)",
   "language": "python",
   "name": "python3"
  },
  "language_info": {
   "codemirror_mode": {
    "name": "ipython",
    "version": 3
   },
   "file_extension": ".py",
   "mimetype": "text/x-python",
   "name": "python",
   "nbconvert_exporter": "python",
   "pygments_lexer": "ipython3",
   "version": "3.9.13"
  }
 },
 "nbformat": 4,
 "nbformat_minor": 5
}
