{
 "cells": [
  {
   "cell_type": "markdown",
   "id": "29b1838e-964e-4430-9605-86885a50bcad",
   "metadata": {},
   "source": [
    "# Violin Graph"
   ]
  },
  {
   "cell_type": "code",
   "execution_count": 2,
   "id": "3b472e8c-8fd0-4e96-9c17-6de54132da5f",
   "metadata": {},
   "outputs": [],
   "source": [
    "import seaborn as sns"
   ]
  },
  {
   "cell_type": "raw",
   "id": "542b5d37-cc2d-4500-9b74-b1bb126bb0cf",
   "metadata": {},
   "source": [
    "The Dataset Story:\n",
    "\n",
    "total_bill = total price of food (tax & tip included)\n",
    "tip: tip\n",
    "sex : The gender of the person who payed the bill\n",
    "smoker: Is there any smoking in the group? (0=NO,1=YES)\n",
    "day : day (3=Thur,4=Fri,5=Sat,6=Sun..)\n",
    "time: Which time? (0=Day,1=Night)\n",
    "size = How many person in the group?"
   ]
  },
  {
   "cell_type": "code",
   "execution_count": 6,
   "id": "861eaa45-581b-4c0e-83f9-bbd950ff23e8",
   "metadata": {},
   "outputs": [
    {
     "data": {
      "text/html": [
       "<div>\n",
       "<style scoped>\n",
       "    .dataframe tbody tr th:only-of-type {\n",
       "        vertical-align: middle;\n",
       "    }\n",
       "\n",
       "    .dataframe tbody tr th {\n",
       "        vertical-align: top;\n",
       "    }\n",
       "\n",
       "    .dataframe thead th {\n",
       "        text-align: right;\n",
       "    }\n",
       "</style>\n",
       "<table border=\"1\" class=\"dataframe\">\n",
       "  <thead>\n",
       "    <tr style=\"text-align: right;\">\n",
       "      <th></th>\n",
       "      <th>total_bill</th>\n",
       "      <th>tip</th>\n",
       "      <th>sex</th>\n",
       "      <th>smoker</th>\n",
       "      <th>day</th>\n",
       "      <th>time</th>\n",
       "      <th>size</th>\n",
       "    </tr>\n",
       "  </thead>\n",
       "  <tbody>\n",
       "    <tr>\n",
       "      <th>0</th>\n",
       "      <td>16.99</td>\n",
       "      <td>1.01</td>\n",
       "      <td>Female</td>\n",
       "      <td>No</td>\n",
       "      <td>Sun</td>\n",
       "      <td>Dinner</td>\n",
       "      <td>2</td>\n",
       "    </tr>\n",
       "    <tr>\n",
       "      <th>1</th>\n",
       "      <td>10.34</td>\n",
       "      <td>1.66</td>\n",
       "      <td>Male</td>\n",
       "      <td>No</td>\n",
       "      <td>Sun</td>\n",
       "      <td>Dinner</td>\n",
       "      <td>3</td>\n",
       "    </tr>\n",
       "    <tr>\n",
       "      <th>2</th>\n",
       "      <td>21.01</td>\n",
       "      <td>3.50</td>\n",
       "      <td>Male</td>\n",
       "      <td>No</td>\n",
       "      <td>Sun</td>\n",
       "      <td>Dinner</td>\n",
       "      <td>3</td>\n",
       "    </tr>\n",
       "    <tr>\n",
       "      <th>3</th>\n",
       "      <td>23.68</td>\n",
       "      <td>3.31</td>\n",
       "      <td>Male</td>\n",
       "      <td>No</td>\n",
       "      <td>Sun</td>\n",
       "      <td>Dinner</td>\n",
       "      <td>2</td>\n",
       "    </tr>\n",
       "    <tr>\n",
       "      <th>4</th>\n",
       "      <td>24.59</td>\n",
       "      <td>3.61</td>\n",
       "      <td>Female</td>\n",
       "      <td>No</td>\n",
       "      <td>Sun</td>\n",
       "      <td>Dinner</td>\n",
       "      <td>4</td>\n",
       "    </tr>\n",
       "  </tbody>\n",
       "</table>\n",
       "</div>"
      ],
      "text/plain": [
       "   total_bill   tip     sex smoker  day    time  size\n",
       "0       16.99  1.01  Female     No  Sun  Dinner     2\n",
       "1       10.34  1.66    Male     No  Sun  Dinner     3\n",
       "2       21.01  3.50    Male     No  Sun  Dinner     3\n",
       "3       23.68  3.31    Male     No  Sun  Dinner     2\n",
       "4       24.59  3.61  Female     No  Sun  Dinner     4"
      ]
     },
     "execution_count": 6,
     "metadata": {},
     "output_type": "execute_result"
    }
   ],
   "source": [
    "tips = sns.load_dataset(\"tips\") #loading data from seaborn library\n",
    "df = tips.copy() #Creating a new variable to work on dataset\n",
    "df.head() #To see first 5 elements in dataset"
   ]
  },
  {
   "cell_type": "markdown",
   "id": "494c8da6-8d53-4e1b-b1bd-7de4ba91ddb5",
   "metadata": {},
   "source": [
    "#If we're wanting to create a violin graph,\n",
    "#We have to set kind settings as `violin`."
   ]
  },
  {
   "cell_type": "code",
   "execution_count": 21,
   "id": "a4749718-d139-4380-9273-9bd78b838726",
   "metadata": {},
   "outputs": [],
   "source": [
    "sns.catplot(y = \"total_bill\", \n",
    "            kind = \"violin\", \n",
    "            data = df);"
   ]
  },
  {
   "cell_type": "code",
   "execution_count": 22,
   "id": "ab90d99c-a78b-4b5a-bc7a-8d5e516f7af9",
   "metadata": {},
   "outputs": [],
   "source": [
    "#Cross Process in Violin Graph:"
   ]
  },
  {
   "cell_type": "code",
   "execution_count": 27,
   "id": "e292903d-9e59-43cd-83b4-4a137f9785f8",
   "metadata": {},
   "outputs": [],
   "source": [
    "sns.catplot(x = \"day\", y = \"total_bill\", kind = \"violin\", data = df);"
   ]
  },
  {
   "cell_type": "code",
   "execution_count": 31,
   "id": "b9e05341-d687-463f-ae5b-7a72a13ec67d",
   "metadata": {},
   "outputs": [],
   "source": [
    "#Quote: If you want to add 3rd dimension, you should use to `hue` setting.\n",
    "sns.catplot(x=\"day\",y=\"total_bill\", hue = \"sex\", kind = \"violin\", data = df);"
   ]
  },
  {
   "cell_type": "code",
   "execution_count": 10,
   "id": "52fbab38-c88e-490c-802d-03e6e501dbdf",
   "metadata": {},
   "outputs": [],
   "source": [
    "#Hasan Baris GOK from Data Virtualization Directory on GitHub."
   ]
  },
  {
   "cell_type": "code",
   "execution_count": null,
   "id": "2e18bbe2-b012-4a52-85af-a8d8f00e6013",
   "metadata": {},
   "outputs": [],
   "source": []
  }
 ],
 "metadata": {
  "kernelspec": {
   "display_name": "Python 3 (ipykernel)",
   "language": "python",
   "name": "python3"
  },
  "language_info": {
   "codemirror_mode": {
    "name": "ipython",
    "version": 3
   },
   "file_extension": ".py",
   "mimetype": "text/x-python",
   "name": "python",
   "nbconvert_exporter": "python",
   "pygments_lexer": "ipython3",
   "version": "3.9.13"
  }
 },
 "nbformat": 4,
 "nbformat_minor": 5
}
