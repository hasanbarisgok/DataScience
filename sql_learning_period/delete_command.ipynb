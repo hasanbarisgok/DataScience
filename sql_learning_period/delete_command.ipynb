{
 "cells": [
  {
   "cell_type": "markdown",
   "id": "a2ed906a-6840-4a8d-9894-6153fbe824fa",
   "metadata": {},
   "source": [
    "# Delete Command:"
   ]
  },
  {
   "cell_type": "raw",
   "id": "67c59d96-2382-46e6-a8d8-7e559ac00fe0",
   "metadata": {},
   "source": [
    "The Delete command in SQL is a part of the Data Manipulation Language,\n",
    "a sub-language of SQL that allows modification of data in databases. \n",
    "This command is used to delete existing records from a table. \n",
    "Using this, you can either delete specific records based on a \n",
    "condition or all the records from a table.\n",
    "\n",
    "Source: Simplilearn.com"
   ]
  },
  {
   "cell_type": "markdown",
   "id": "9c676a16-e419-4f37-b6fb-1a5a054d290c",
   "metadata": {},
   "source": [
    "**Delete Command Syntax:**"
   ]
  },
  {
   "cell_type": "markdown",
   "id": "6df2b0d9-fb56-4ef0-9abb-1dd24083739c",
   "metadata": {},
   "source": [
    "DELETE\n",
    "\n",
    "FROM `TABLENAME`\n",
    "\n",
    "WHERE `<CONDITIONS>`"
   ]
  },
  {
   "cell_type": "markdown",
   "id": "71dd9c41-32ac-4b32-a883-47bbb633cf4c",
   "metadata": {},
   "source": [
    "**Quote:**  We're not using stars in this command. (Special Characters)\n",
    "\n",
    "Examples:\n",
    "\n",
    "`from *tablename` = True for insert, select, and update commands.\n",
    "\n",
    "`from tablename` = True for delete command.\n",
    "\n"
   ]
  },
  {
   "cell_type": "code",
   "execution_count": null,
   "id": "3f265e1c-dfa9-4ab1-be3a-3c7cc0224bdb",
   "metadata": {},
   "outputs": [],
   "source": []
  },
  {
   "cell_type": "code",
   "execution_count": null,
   "id": "41bf2b36-2649-473c-a946-a54148492e93",
   "metadata": {},
   "outputs": [],
   "source": []
  }
 ],
 "metadata": {
  "kernelspec": {
   "display_name": "Python 3 (ipykernel)",
   "language": "python",
   "name": "python3"
  },
  "language_info": {
   "codemirror_mode": {
    "name": "ipython",
    "version": 3
   },
   "file_extension": ".py",
   "mimetype": "text/x-python",
   "name": "python",
   "nbconvert_exporter": "python",
   "pygments_lexer": "ipython3",
   "version": "3.9.13"
  }
 },
 "nbformat": 4,
 "nbformat_minor": 5
}
