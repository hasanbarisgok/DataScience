{
 "cells": [
  {
   "cell_type": "markdown",
   "id": "415c3f6c-f326-45f1-b6be-bd6354872351",
   "metadata": {},
   "source": [
    "# Update Command"
   ]
  },
  {
   "cell_type": "markdown",
   "id": "0eb19e02-c114-4053-8cbf-14dee420d7e2",
   "metadata": {},
   "source": [
    "Update command is a data manipulation command which is used to \n",
    "edit the records of a table. It may be used to update \n",
    "a single row based on a condition, all rows or set of rows \n",
    "based on the condition given by the user.\n",
    "\n",
    "Source: tutorialspoint.com"
   ]
  },
  {
   "cell_type": "markdown",
   "id": "1a98ea1e-8d64-405c-99c0-1d4611b2249c",
   "metadata": {},
   "source": [
    "**Update Command Syntax:**"
   ]
  },
  {
   "cell_type": "markdown",
   "id": "9f949a90-642b-4f10-9177-c211ceac5f23",
   "metadata": {},
   "source": [
    "UPDATE `TABLENAME`\n",
    "\n",
    "SET `COLUMN1=VALUE1,COLUMN2=VALUE2...`\n",
    "\n",
    "WHERE `<CONDITIONS>`"
   ]
  },
  {
   "cell_type": "markdown",
   "id": "545fbe44-89c5-4426-9d6c-7a388913ceaf",
   "metadata": {},
   "source": [
    "**Example Codes Here:**"
   ]
  },
  {
   "cell_type": "markdown",
   "id": "1822f4bf-13e4-41d0-8526-8a15731a5e79",
   "metadata": {},
   "source": [
    "*This code changes only one column name*\n",
    "\n",
    "UPDATE `CUSTOMERS`\n",
    "\n",
    "SET `NATION= 'US'`"
   ]
  },
  {
   "cell_type": "markdown",
   "id": "3c83f7db-a2bf-44e7-9080-8f2bb7cf0ab4",
   "metadata": {},
   "source": [
    "\n",
    "\n",
    "\n",
    "\n",
    "\n",
    "*This code changes many column names same time*\n",
    "\n",
    "UPDATE `CUSTOMERS`\n",
    "\n",
    "SET `NATION= 'US', AGE=35`\n",
    "\n"
   ]
  },
  {
   "cell_type": "markdown",
   "id": "b75010d9-7819-422e-8382-113b721f0b48",
   "metadata": {},
   "source": [
    "**Quote:** Customers is D.B (Database) Name, *Nation & Age* are column names from Customers DataBase."
   ]
  },
  {
   "cell_type": "code",
   "execution_count": 3,
   "id": "a640ff67-55ef-4f3c-9608-7194c3a9526e",
   "metadata": {},
   "outputs": [],
   "source": [
    "#HasanBarisGOK - From Github DataScience, sql_learning_period directory."
   ]
  }
 ],
 "metadata": {
  "kernelspec": {
   "display_name": "Python 3 (ipykernel)",
   "language": "python",
   "name": "python3"
  },
  "language_info": {
   "codemirror_mode": {
    "name": "ipython",
    "version": 3
   },
   "file_extension": ".py",
   "mimetype": "text/x-python",
   "name": "python",
   "nbconvert_exporter": "python",
   "pygments_lexer": "ipython3",
   "version": "3.9.13"
  }
 },
 "nbformat": 4,
 "nbformat_minor": 5
}
