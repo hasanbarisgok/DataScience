{
 "cells": [
  {
   "cell_type": "markdown",
   "id": "9df897a6-f6c1-48d3-a5c5-05c6ee71c188",
   "metadata": {},
   "source": [
    "# BASIC SQL COMMANDS:"
   ]
  },
  {
   "cell_type": "markdown",
   "id": "1135eca1-1dd6-4c01-a446-301437e661a6",
   "metadata": {},
   "source": [
    "Data Manipulation Codes: **Select, Insert, Update, Delete, Truncate**"
   ]
  },
  {
   "cell_type": "markdown",
   "id": "bbf644a3-6909-4014-bf68-4ea4547058ac",
   "metadata": {},
   "source": [
    "Database Manipulation Codes: **CREATE, ALTER, DROP...**"
   ]
  },
  {
   "cell_type": "markdown",
   "id": "d411ec58-d9eb-4066-b3ad-dcffd2bcbf79",
   "metadata": {},
   "source": [
    "# Data Manipulation Codes:"
   ]
  },
  {
   "cell_type": "markdown",
   "id": "fd4d161e-9683-49ae-8ed6-d7002365e039",
   "metadata": {},
   "source": [
    "**Select**: Pulls records from table in database."
   ]
  },
  {
   "cell_type": "markdown",
   "id": "190aceb9-8514-4daf-885e-d392282523f8",
   "metadata": {},
   "source": [
    "**Update**: Updates, and changes records one or more fields from the table."
   ]
  },
  {
   "cell_type": "markdown",
   "id": "74c9f6f3-6d03-4f26-b10f-8ff3754c0ab4",
   "metadata": {},
   "source": [
    "**Delete**: Deletes a row from the table."
   ]
  },
  {
   "cell_type": "markdown",
   "id": "e38c47a3-1198-4910-9b4c-f67d821a3863",
   "metadata": {},
   "source": [
    "**Insert**: Adds new records to table."
   ]
  },
  {
   "cell_type": "markdown",
   "id": "084a87fd-cd53-4a70-83d2-7aa8941799e6",
   "metadata": {},
   "source": [
    "**Truncate:** Deletes everything from the table. (Emptys the table)"
   ]
  },
  {
   "cell_type": "markdown",
   "id": "096cd320-fce8-4f3c-91e1-ef50f57c0669",
   "metadata": {},
   "source": [
    "# Database Manipulation Codes:"
   ]
  },
  {
   "cell_type": "markdown",
   "id": "7b84faae-3f82-428e-8094-d26d7415fb0e",
   "metadata": {},
   "source": [
    "**Create**: Creates a database object.\n"
   ]
  },
  {
   "cell_type": "markdown",
   "id": "cb853fe3-cb12-4fdf-80cc-5d8e20aad270",
   "metadata": {},
   "source": [
    "**Alter**: Changes a property of the database object."
   ]
  },
  {
   "cell_type": "markdown",
   "id": "dcbfb23d-90de-4350-aedf-b193d5fc178e",
   "metadata": {},
   "source": [
    "**Drop**: Removes a database object.\n"
   ]
  },
  {
   "cell_type": "markdown",
   "id": "be4dca00-52d8-4ba6-9b2d-12d0bbb9b3c5",
   "metadata": {},
   "source": [
    "**CREATE DATABASE**: Creates a new database."
   ]
  },
  {
   "cell_type": "markdown",
   "id": "c6ad4f40-9c3e-4485-a127-5148bfb0c2da",
   "metadata": {},
   "source": [
    "**ALTER DATABASE**: Changes properties of the database.\n"
   ]
  },
  {
   "cell_type": "markdown",
   "id": "5459835f-5404-4b91-b2a4-08562ae1c9c0",
   "metadata": {},
   "source": [
    "**CREATE TABLE**: Creates a new table.\n"
   ]
  },
  {
   "cell_type": "markdown",
   "id": "3a41f858-cc06-4521-ae23-df3e30b762b5",
   "metadata": {},
   "source": [
    "**ALTER TABLE**: Changes properties of the table."
   ]
  },
  {
   "cell_type": "markdown",
   "id": "75800df4-71fa-4b7a-a43f-e07d35562fcd",
   "metadata": {},
   "source": [
    "**DROP TABLE** : Removes table all."
   ]
  },
  {
   "cell_type": "markdown",
   "id": "d6448997-68c4-4524-be0f-6c040f3ca72c",
   "metadata": {},
   "source": [
    "**CREATE INDEX** : Creates an index."
   ]
  },
  {
   "cell_type": "markdown",
   "id": "6799ebc4-4f3b-4ba7-a154-4d963f2a9b92",
   "metadata": {},
   "source": [
    "**DROP INDEX**: Removes the index."
   ]
  }
 ],
 "metadata": {
  "kernelspec": {
   "display_name": "Python 3 (ipykernel)",
   "language": "python",
   "name": "python3"
  },
  "language_info": {
   "codemirror_mode": {
    "name": "ipython",
    "version": 3
   },
   "file_extension": ".py",
   "mimetype": "text/x-python",
   "name": "python",
   "nbconvert_exporter": "python",
   "pygments_lexer": "ipython3",
   "version": "3.9.13"
  }
 },
 "nbformat": 4,
 "nbformat_minor": 5
}
