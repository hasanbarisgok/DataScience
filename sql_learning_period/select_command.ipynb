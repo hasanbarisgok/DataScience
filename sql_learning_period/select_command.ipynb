{
 "cells": [
  {
   "cell_type": "markdown",
   "id": "5f901808-f0b2-4997-8427-3be1a57e104c",
   "metadata": {},
   "source": [
    "**SELECT COMMAND**"
   ]
  },
  {
   "cell_type": "raw",
   "id": "56ddc34c-0be5-40eb-a396-8f71b49371a8",
   "metadata": {},
   "source": [
    "The SELECT command creates a temporary select-list of file items \n",
    "to be processed by the next TCL or INFO/ACCESS statement, \n",
    "or by other processors such as the Editor, mvBASIC, or \n",
    "PROC. Creating a select-list is a useful way to define \n",
    "and operate on a subset of items in a database.\n",
    "\n",
    "Source: rocketsource.com"
   ]
  },
  {
   "cell_type": "markdown",
   "id": "33ba64af-8971-4499-89f9-b83859df3201",
   "metadata": {},
   "source": [
    "**Select Command Syntax:**"
   ]
  },
  {
   "cell_type": "raw",
   "id": "7c2ca4e8-8e82-49dc-b115-ae615a0d483a",
   "metadata": {},
   "source": [
    "SELECT\n",
    "COLUMN1,COLUMN2,COLUMN3...\n",
    "FROM TABLENAME\n",
    "WHERE<CONDITIONS>"
   ]
  },
  {
   "cell_type": "code",
   "execution_count": 1,
   "id": "0a9e93a1-1f05-4c8a-a3f1-cf3c7a61d386",
   "metadata": {},
   "outputs": [],
   "source": [
    "#HasanBarisGOK - From Github DataScience, sql_learning_period directory."
   ]
  },
  {
   "cell_type": "code",
   "execution_count": null,
   "id": "17cf2463-9706-4949-bfbf-70775e73fd5c",
   "metadata": {},
   "outputs": [],
   "source": []
  }
 ],
 "metadata": {
  "kernelspec": {
   "display_name": "Python 3 (ipykernel)",
   "language": "python",
   "name": "python3"
  },
  "language_info": {
   "codemirror_mode": {
    "name": "ipython",
    "version": 3
   },
   "file_extension": ".py",
   "mimetype": "text/x-python",
   "name": "python",
   "nbconvert_exporter": "python",
   "pygments_lexer": "ipython3",
   "version": "3.9.13"
  }
 },
 "nbformat": 4,
 "nbformat_minor": 5
}
