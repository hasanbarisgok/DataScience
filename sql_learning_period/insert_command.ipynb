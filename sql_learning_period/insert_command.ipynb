{
 "cells": [
  {
   "cell_type": "markdown",
   "id": "c43c8fb2-eb8e-4242-91c5-0021cf2ecb8f",
   "metadata": {},
   "source": [
    "# Insert Command"
   ]
  },
  {
   "cell_type": "raw",
   "id": "7877019e-2401-4211-b335-d68355ab9c8c",
   "metadata": {},
   "source": [
    "The insert command is used for inserting one or more rows \n",
    "into a database table with specified table column values. \n",
    "The first DML command executed immediately after a table creation is \n",
    "the insert statement.\n",
    "\n",
    "source: techopedia.com"
   ]
  },
  {
   "cell_type": "markdown",
   "id": "456f397a-abfa-43e2-a6d2-7e04deb98cad",
   "metadata": {},
   "source": [
    "**The Insert Command Syntax:**"
   ]
  },
  {
   "cell_type": "markdown",
   "id": "2d46a6f9-4c85-4df9-8b9f-e2689fddf6fa",
   "metadata": {},
   "source": [
    "INSERT INTO `TABLENAME`\n",
    "\n",
    "(`COLUMN1,COLUMN2,COLUMN3,...`)\n",
    "\n",
    "VALUES\n",
    "\n",
    "(`VALUE1,VALUE2,VALUE3,..`)"
   ]
  },
  {
   "cell_type": "markdown",
   "id": "086cd60c-95d6-462e-8182-bb122dc3bf9f",
   "metadata": {},
   "source": [
    "**Example Code:**"
   ]
  },
  {
   "cell_type": "raw",
   "id": "189605d4-9651-4e39-8c19-c7e564dc2387",
   "metadata": {},
   "source": [
    "INSERT INTO CUSTOMERS\n",
    "(CUSTOMERNAME,CITY,BIRTHDATE,GENDER)\n",
    "VALUES\n",
    "('John','New Jersey','1996-03-16,'M')\t"
   ]
  },
  {
   "cell_type": "code",
   "execution_count": null,
   "id": "7df8dce5-698f-4516-bbc0-371396b3157a",
   "metadata": {},
   "outputs": [],
   "source": []
  }
 ],
 "metadata": {
  "kernelspec": {
   "display_name": "Python 3 (ipykernel)",
   "language": "python",
   "name": "python3"
  },
  "language_info": {
   "codemirror_mode": {
    "name": "ipython",
    "version": 3
   },
   "file_extension": ".py",
   "mimetype": "text/x-python",
   "name": "python",
   "nbconvert_exporter": "python",
   "pygments_lexer": "ipython3",
   "version": "3.9.13"
  }
 },
 "nbformat": 4,
 "nbformat_minor": 5
}
