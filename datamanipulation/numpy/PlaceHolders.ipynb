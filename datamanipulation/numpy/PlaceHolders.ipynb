{
 "cells": [
  {
   "cell_type": "code",
   "execution_count": 5,
   "id": "2bb7c0bd-45db-4226-89d0-e4a762cc5c88",
   "metadata": {
    "tags": []
   },
   "outputs": [],
   "source": [
    "import numpy as np #adding the numpy library as np"
   ]
  },
  {
   "cell_type": "markdown",
   "id": "2847cf9f-68e0-4989-b662-e73d217aa43f",
   "metadata": {},
   "source": [
    "***Creating Arrays***"
   ]
  },
  {
   "cell_type": "code",
   "execution_count": 7,
   "id": "ff933e66-fe9d-40c8-bd7f-9e02050c77ff",
   "metadata": {},
   "outputs": [],
   "source": [
    "a = np.array([1,2,3]) #creating 1D array"
   ]
  },
  {
   "cell_type": "code",
   "execution_count": 11,
   "id": "0a340974-90c2-488e-9b33-33a840a77978",
   "metadata": {},
   "outputs": [],
   "source": [
    "b = np.array([(1,2,3),(4,5,6)], dtype = float) #creating 2D array"
   ]
  },
  {
   "cell_type": "code",
   "execution_count": 13,
   "id": "b5e38f36-9e52-45be-99cb-76e195905c9d",
   "metadata": {},
   "outputs": [
    {
     "name": "stdout",
     "output_type": "stream",
     "text": [
      "[1 2 3]\n"
     ]
    }
   ],
   "source": [
    "print(a)"
   ]
  },
  {
   "cell_type": "code",
   "execution_count": 14,
   "id": "f3794c39-9860-4b83-928a-7b7662bff760",
   "metadata": {},
   "outputs": [
    {
     "name": "stdout",
     "output_type": "stream",
     "text": [
      "[[1. 2. 3.]\n",
      " [4. 5. 6.]]\n"
     ]
    }
   ],
   "source": [
    "print(b)"
   ]
  },
  {
   "cell_type": "markdown",
   "id": "4c47560d-68ed-4472-89c0-6fd718244624",
   "metadata": {},
   "source": [
    "***Place Holders***"
   ]
  },
  {
   "cell_type": "code",
   "execution_count": 15,
   "id": "5994a7b9-27eb-49b5-972d-1d36a1b8fba9",
   "metadata": {},
   "outputs": [
    {
     "data": {
      "text/plain": [
       "array([[0., 0., 0., 0.],\n",
       "       [0., 0., 0., 0.],\n",
       "       [0., 0., 0., 0.]])"
      ]
     },
     "execution_count": 15,
     "metadata": {},
     "output_type": "execute_result"
    }
   ],
   "source": [
    "np.zeros((3,4)) #creating 2D Array with 3 Rows, 4 Columns of Zeros"
   ]
  },
  {
   "cell_type": "code",
   "execution_count": 16,
   "id": "ef02507a-8453-4995-b47c-4f7f690c5d50",
   "metadata": {},
   "outputs": [
    {
     "data": {
      "text/plain": [
       "array([[[1, 1, 1, 1],\n",
       "        [1, 1, 1, 1],\n",
       "        [1, 1, 1, 1]],\n",
       "\n",
       "       [[1, 1, 1, 1],\n",
       "        [1, 1, 1, 1],\n",
       "        [1, 1, 1, 1]]], dtype=int16)"
      ]
     },
     "execution_count": 16,
     "metadata": {},
     "output_type": "execute_result"
    }
   ],
   "source": [
    "np.ones((2,3,4), dtype=np.int16) #Creating 3D Array of Ones"
   ]
  },
  {
   "cell_type": "code",
   "execution_count": 18,
   "id": "b16b056d-a1e5-472f-86d6-19566d53c97b",
   "metadata": {},
   "outputs": [
    {
     "data": {
      "text/plain": [
       "array([0.  , 0.25, 0.5 , 0.75, 1.  , 1.25, 1.5 , 1.75, 2.  ])"
      ]
     },
     "execution_count": 18,
     "metadata": {},
     "output_type": "execute_result"
    }
   ],
   "source": [
    "np.linspace(0,2,9) #Creating array of Evenlyspaced Values so step step"
   ]
  },
  {
   "cell_type": "code",
   "execution_count": 23,
   "id": "38459ab5-dd04-4a89-813f-652f1529281c",
   "metadata": {},
   "outputs": [
    {
     "data": {
      "text/plain": [
       "array([[7, 7],\n",
       "       [7, 7]])"
      ]
     },
     "execution_count": 23,
     "metadata": {},
     "output_type": "execute_result"
    }
   ],
   "source": [
    "np.full((2,2),7) #Creating Constat Array"
   ]
  },
  {
   "cell_type": "code",
   "execution_count": 24,
   "id": "737bfe4b-6abd-4da6-a9c1-6c4b2eb73840",
   "metadata": {},
   "outputs": [
    {
     "data": {
      "text/plain": [
       "array([[1., 0.],\n",
       "       [0., 1.]])"
      ]
     },
     "execution_count": 24,
     "metadata": {},
     "output_type": "execute_result"
    }
   ],
   "source": [
    "np.eye(2) #Creating 2X2 Identity Matrix"
   ]
  },
  {
   "cell_type": "code",
   "execution_count": 25,
   "id": "442edc86-0f80-468d-b776-4b879ab070ce",
   "metadata": {},
   "outputs": [
    {
     "data": {
      "text/plain": [
       "array([[0.26237347, 0.65545376],\n",
       "       [0.57552571, 0.21148971]])"
      ]
     },
     "execution_count": 25,
     "metadata": {},
     "output_type": "execute_result"
    }
   ],
   "source": [
    "np.random.random((2,2)) #Creating Array with Random Values"
   ]
  },
  {
   "cell_type": "code",
   "execution_count": 26,
   "id": "ca2b1ff7-cdce-43f8-809d-3edee3c9011a",
   "metadata": {},
   "outputs": [
    {
     "data": {
      "text/plain": [
       "array([[1., 2.],\n",
       "       [3., 4.],\n",
       "       [5., 6.]])"
      ]
     },
     "execution_count": 26,
     "metadata": {},
     "output_type": "execute_result"
    }
   ],
   "source": [
    "np.empty((3,2)) #Creating Empty Array"
   ]
  },
  {
   "cell_type": "code",
   "execution_count": null,
   "id": "9ff9315f-9365-4aed-bc8b-5d71d8d5b9e9",
   "metadata": {},
   "outputs": [],
   "source": []
  }
 ],
 "metadata": {
  "kernelspec": {
   "display_name": "Python 3 (ipykernel)",
   "language": "python",
   "name": "python3"
  },
  "language_info": {
   "codemirror_mode": {
    "name": "ipython",
    "version": 3
   },
   "file_extension": ".py",
   "mimetype": "text/x-python",
   "name": "python",
   "nbconvert_exporter": "python",
   "pygments_lexer": "ipython3",
   "version": "3.9.13"
  }
 },
 "nbformat": 4,
 "nbformat_minor": 5
}
