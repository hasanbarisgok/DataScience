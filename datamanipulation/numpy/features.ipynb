{
 "cells": [
  {
   "cell_type": "code",
   "execution_count": 2,
   "id": "64ad2003-8c63-48b7-b23b-0250d28ca943",
   "metadata": {},
   "outputs": [],
   "source": [
    "import numpy as np #Adding the numpy libray"
   ]
  },
  {
   "cell_type": "code",
   "execution_count": 4,
   "id": "4af282c2-961f-458a-9ff5-c0d006846943",
   "metadata": {},
   "outputs": [],
   "source": [
    "list = np.random.randint(10, size = 10) #1D Array, size: 10, len:10"
   ]
  },
  {
   "cell_type": "code",
   "execution_count": 5,
   "id": "f29c5569-9114-4ad9-9fd7-6f1cf7b10663",
   "metadata": {},
   "outputs": [
    {
     "data": {
      "text/plain": [
       "1"
      ]
     },
     "execution_count": 5,
     "metadata": {},
     "output_type": "execute_result"
    }
   ],
   "source": [
    "list.ndim #Dimension Num"
   ]
  },
  {
   "cell_type": "code",
   "execution_count": 6,
   "id": "d6d4c6c4-03bb-4383-bd96-b6aa9c7ce107",
   "metadata": {},
   "outputs": [
    {
     "data": {
      "text/plain": [
       "(10,)"
      ]
     },
     "execution_count": 6,
     "metadata": {},
     "output_type": "execute_result"
    }
   ],
   "source": [
    "list.shape #Dimension Info"
   ]
  },
  {
   "cell_type": "code",
   "execution_count": 7,
   "id": "ff9bdbdd-62e2-40d5-9c60-5286eff8118e",
   "metadata": {},
   "outputs": [
    {
     "data": {
      "text/plain": [
       "10"
      ]
     },
     "execution_count": 7,
     "metadata": {},
     "output_type": "execute_result"
    }
   ],
   "source": [
    "list.size #Total element num (len of the list)"
   ]
  },
  {
   "cell_type": "code",
   "execution_count": 8,
   "id": "d998b5b8-24b0-45fc-bd32-1677048b916b",
   "metadata": {},
   "outputs": [
    {
     "data": {
      "text/plain": [
       "dtype('int32')"
      ]
     },
     "execution_count": 8,
     "metadata": {},
     "output_type": "execute_result"
    }
   ],
   "source": [
    "list.dtype #Info the list data type"
   ]
  },
  {
   "cell_type": "markdown",
   "id": "a0144468-266a-48cf-8d6e-5aa78625c232",
   "metadata": {},
   "source": [
    "**Quote: The commands are work for all dimensions (1D,2D,3D,4D...)**"
   ]
  },
  {
   "cell_type": "code",
   "execution_count": 9,
   "id": "7862e33b-60bb-4b57-82d5-d88500302766",
   "metadata": {},
   "outputs": [],
   "source": [
    "#Hasan Baris GOK from Data Manipulation 101 NumPy Directory on GitHub."
   ]
  }
 ],
 "metadata": {
  "kernelspec": {
   "display_name": "Python 3 (ipykernel)",
   "language": "python",
   "name": "python3"
  },
  "language_info": {
   "codemirror_mode": {
    "name": "ipython",
    "version": 3
   },
   "file_extension": ".py",
   "mimetype": "text/x-python",
   "name": "python",
   "nbconvert_exporter": "python",
   "pygments_lexer": "ipython3",
   "version": "3.9.13"
  }
 },
 "nbformat": 4,
 "nbformat_minor": 5
}
