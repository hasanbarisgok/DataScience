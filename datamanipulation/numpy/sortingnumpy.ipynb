{
 "cells": [
  {
   "cell_type": "code",
   "execution_count": 1,
   "id": "4bc6a670-c3da-4401-9c09-e2dff3615434",
   "metadata": {},
   "outputs": [],
   "source": [
    "import numpy as np"
   ]
  },
  {
   "cell_type": "code",
   "execution_count": 2,
   "id": "8edc3fb4-86be-4448-97d6-5213ed2a769e",
   "metadata": {},
   "outputs": [],
   "source": [
    "list = np.array([5,4,6,7,1,2])"
   ]
  },
  {
   "cell_type": "code",
   "execution_count": 5,
   "id": "c84a7041-2cc8-4c46-8929-c46f823c00a3",
   "metadata": {},
   "outputs": [
    {
     "data": {
      "text/plain": [
       "array([1, 2, 4, 5, 6, 7])"
      ]
     },
     "execution_count": 5,
     "metadata": {},
     "output_type": "execute_result"
    }
   ],
   "source": [
    "np.sort(list) #Sorting"
   ]
  },
  {
   "cell_type": "code",
   "execution_count": 7,
   "id": "9ce4fa37-4476-44e2-9b04-cc74bf83bddf",
   "metadata": {},
   "outputs": [
    {
     "data": {
      "text/plain": [
       "array([1, 2, 4, 5, 6, 7])"
      ]
     },
     "execution_count": 7,
     "metadata": {},
     "output_type": "execute_result"
    }
   ],
   "source": [
    "list.sort()\n",
    "list"
   ]
  },
  {
   "cell_type": "markdown",
   "id": "b6381def-34c1-4874-84dd-2aa952a9ffe2",
   "metadata": {},
   "source": [
    "IMPORTANT: If you call the `sort function` as using `numpy sort function`, the array's structure is no change. `(look at 5rd row)`\n",
    "\n",
    "If you call the `sort function` as using `python sorting`, the array's structure is generally changes. `(look at 7rd row)`"
   ]
  },
  {
   "cell_type": "markdown",
   "id": "570e65e3-8dfb-4299-8f0c-cef08f02c64a",
   "metadata": {},
   "source": [
    "**Sorting the 2 Dimensions Arrays:**"
   ]
  },
  {
   "cell_type": "code",
   "execution_count": 13,
   "id": "311461ac-5b6a-4702-b527-db6a5171e78d",
   "metadata": {},
   "outputs": [],
   "source": [
    "two_dimensions = np.random.normal(20,5,(3,3)) \n",
    "#Creating 2D Array 3x3 with nums which are between of 5 and 20."
   ]
  },
  {
   "cell_type": "code",
   "execution_count": 14,
   "id": "c8380850-c701-4014-9b83-ab2fbb6c2b21",
   "metadata": {},
   "outputs": [
    {
     "data": {
      "text/plain": [
       "array([[22.61554409, 18.99856791, 19.39216974],\n",
       "       [24.42002237, 18.09336387, 17.40473016],\n",
       "       [16.82670246, 11.68949611, 26.34744055]])"
      ]
     },
     "execution_count": 14,
     "metadata": {},
     "output_type": "execute_result"
    }
   ],
   "source": [
    "two_dimensions "
   ]
  },
  {
   "cell_type": "code",
   "execution_count": 15,
   "id": "b2bd175e-a648-4dc1-a8e0-061149e6cf24",
   "metadata": {},
   "outputs": [
    {
     "data": {
      "text/plain": [
       "array([[18.99856791, 19.39216974, 22.61554409],\n",
       "       [17.40473016, 18.09336387, 24.42002237],\n",
       "       [11.68949611, 16.82670246, 26.34744055]])"
      ]
     },
     "execution_count": 15,
     "metadata": {},
     "output_type": "execute_result"
    }
   ],
   "source": [
    "np.sort(two_dimensions, axis = 1) \n",
    "#Sorting by Rows (axis = 1)"
   ]
  },
  {
   "cell_type": "code",
   "execution_count": 17,
   "id": "c3a24ea5-cdc3-4c2b-9e7e-85481a946c7a",
   "metadata": {},
   "outputs": [
    {
     "data": {
      "text/plain": [
       "array([[16.82670246, 11.68949611, 17.40473016],\n",
       "       [22.61554409, 18.09336387, 19.39216974],\n",
       "       [24.42002237, 18.99856791, 26.34744055]])"
      ]
     },
     "execution_count": 17,
     "metadata": {},
     "output_type": "execute_result"
    }
   ],
   "source": [
    "np.sort(two_dimensions, axis = 0) \n",
    "#Sorting by Columns (axis = 0)"
   ]
  },
  {
   "cell_type": "code",
   "execution_count": 18,
   "id": "19093791-52e3-42a6-8e9a-b88c5f097b4b",
   "metadata": {},
   "outputs": [],
   "source": [
    "#Hasan Baris GOK from Data Manipulation 101 NumPy Directory on GitHub."
   ]
  },
  {
   "cell_type": "code",
   "execution_count": null,
   "id": "762ad7de-d3c6-43ff-b8fa-3ef02839204c",
   "metadata": {},
   "outputs": [],
   "source": []
  }
 ],
 "metadata": {
  "kernelspec": {
   "display_name": "Python 3 (ipykernel)",
   "language": "python",
   "name": "python3"
  },
  "language_info": {
   "codemirror_mode": {
    "name": "ipython",
    "version": 3
   },
   "file_extension": ".py",
   "mimetype": "text/x-python",
   "name": "python",
   "nbconvert_exporter": "python",
   "pygments_lexer": "ipython3",
   "version": "3.9.13"
  }
 },
 "nbformat": 4,
 "nbformat_minor": 5
}
