{
 "cells": [
  {
   "cell_type": "code",
   "execution_count": 1,
   "id": "25c3047b-9884-4327-9e57-e5ec94e8c4b1",
   "metadata": {},
   "outputs": [],
   "source": [
    "import numpy as np"
   ]
  },
  {
   "cell_type": "code",
   "execution_count": 3,
   "id": "38f2eef4-d674-436d-be18-b1743f94b9d5",
   "metadata": {},
   "outputs": [],
   "source": [
    "x = np.array([1,2,3,4,4,5,6,7,8])"
   ]
  },
  {
   "cell_type": "code",
   "execution_count": 4,
   "id": "3a88d140-09d5-4110-8c66-bf242f888da1",
   "metadata": {},
   "outputs": [
    {
     "data": {
      "text/plain": [
       "[array([1, 2, 3]), array([4, 4]), array([5, 6, 7, 8])]"
      ]
     },
     "execution_count": 4,
     "metadata": {},
     "output_type": "execute_result"
    }
   ],
   "source": [
    "np.split(x, [3,5])"
   ]
  },
  {
   "cell_type": "markdown",
   "id": "c9cf29a4-5481-484a-86a7-2319001bdeb6",
   "metadata": {},
   "source": [
    "= `np.split(x,[3,5])` = `np.split($listname[indisnum,indisnum])`"
   ]
  },
  {
   "cell_type": "code",
   "execution_count": 10,
   "id": "132c45aa-730a-432e-ba49-e0d44d6f0c80",
   "metadata": {},
   "outputs": [],
   "source": [
    "a,b,c = np.split(x,[3,5]) #Every part is transferring the list variables (a,b,c)"
   ]
  },
  {
   "cell_type": "code",
   "execution_count": 11,
   "id": "f2e7130b-895f-43ab-a8fe-0d5f3503f57c",
   "metadata": {},
   "outputs": [
    {
     "data": {
      "text/plain": [
       "array([1, 2, 3])"
      ]
     },
     "execution_count": 11,
     "metadata": {},
     "output_type": "execute_result"
    }
   ],
   "source": [
    "a #Splitted Piece (1rd)"
   ]
  },
  {
   "cell_type": "code",
   "execution_count": 12,
   "id": "c43ce020-bef2-406b-8ced-c4185918c06b",
   "metadata": {},
   "outputs": [
    {
     "data": {
      "text/plain": [
       "array([4, 4])"
      ]
     },
     "execution_count": 12,
     "metadata": {},
     "output_type": "execute_result"
    }
   ],
   "source": [
    "b #Splitted Piece (2rd)"
   ]
  },
  {
   "cell_type": "code",
   "execution_count": 13,
   "id": "f817cd25-095c-4459-99a9-4637c01bb044",
   "metadata": {},
   "outputs": [
    {
     "data": {
      "text/plain": [
       "array([5, 6, 7, 8])"
      ]
     },
     "execution_count": 13,
     "metadata": {},
     "output_type": "execute_result"
    }
   ],
   "source": [
    "c #Splitted Piece (3rd)"
   ]
  },
  {
   "cell_type": "markdown",
   "id": "149f08c7-ed88-47b9-80eb-63c61551d485",
   "metadata": {
    "tags": []
   },
   "source": [
    "# **Splitting on 2 Dimensions Arrays**"
   ]
  },
  {
   "cell_type": "code",
   "execution_count": 19,
   "id": "3a4d9ca1-81de-4ede-bcba-ffa1c8af7384",
   "metadata": {},
   "outputs": [
    {
     "data": {
      "text/plain": [
       "array([[ 0,  1,  2,  3],\n",
       "       [ 4,  5,  6,  7],\n",
       "       [ 8,  9, 10, 11],\n",
       "       [12, 13, 14, 15]])"
      ]
     },
     "execution_count": 19,
     "metadata": {},
     "output_type": "execute_result"
    }
   ],
   "source": [
    "m = np.arange(16).reshape(4,4) #Creating 2Dimensions Array\n",
    "m"
   ]
  },
  {
   "cell_type": "markdown",
   "id": "6104401a-3af2-4ecd-9d54-7e125e5812ba",
   "metadata": {},
   "source": [
    "**Splitting top & under parts by vertical:**"
   ]
  },
  {
   "cell_type": "code",
   "execution_count": 24,
   "id": "473fbb1a-5ee0-42d8-a17c-718413225215",
   "metadata": {},
   "outputs": [
    {
     "data": {
      "text/plain": [
       "[array([[0, 1, 2, 3],\n",
       "        [4, 5, 6, 7]]),\n",
       " array([[ 8,  9, 10, 11],\n",
       "        [12, 13, 14, 15]])]"
      ]
     },
     "execution_count": 24,
     "metadata": {},
     "output_type": "execute_result"
    }
   ],
   "source": [
    "np.vsplit(m,[2]) "
   ]
  },
  {
   "cell_type": "code",
   "execution_count": 25,
   "id": "7790d7f1-1c94-4b5b-a58a-5d388d9d17e4",
   "metadata": {},
   "outputs": [],
   "source": [
    "top,under = np.vsplit(m,[2]) "
   ]
  },
  {
   "cell_type": "code",
   "execution_count": 26,
   "id": "dfb6742c-499a-4e09-a959-1be041ac9d7c",
   "metadata": {},
   "outputs": [
    {
     "data": {
      "text/plain": [
       "array([[0, 1, 2, 3],\n",
       "       [4, 5, 6, 7]])"
      ]
     },
     "execution_count": 26,
     "metadata": {},
     "output_type": "execute_result"
    }
   ],
   "source": [
    "top"
   ]
  },
  {
   "cell_type": "code",
   "execution_count": 27,
   "id": "741bc3d9-cdd2-4e21-b548-3a6696a9d7d8",
   "metadata": {},
   "outputs": [
    {
     "data": {
      "text/plain": [
       "array([[ 8,  9, 10, 11],\n",
       "       [12, 13, 14, 15]])"
      ]
     },
     "execution_count": 27,
     "metadata": {},
     "output_type": "execute_result"
    }
   ],
   "source": [
    "under"
   ]
  },
  {
   "cell_type": "markdown",
   "id": "b38ec5e1-2a21-4f6f-9c06-94dc215904dd",
   "metadata": {},
   "source": [
    "**Splitting left & rights parts by horizontal:**"
   ]
  },
  {
   "cell_type": "code",
   "execution_count": 29,
   "id": "4c1836ef-47a7-4e29-bf43-24c8245ad255",
   "metadata": {},
   "outputs": [
    {
     "data": {
      "text/plain": [
       "[array([[ 0,  1],\n",
       "        [ 4,  5],\n",
       "        [ 8,  9],\n",
       "        [12, 13]]),\n",
       " array([[ 2,  3],\n",
       "        [ 6,  7],\n",
       "        [10, 11],\n",
       "        [14, 15]])]"
      ]
     },
     "execution_count": 29,
     "metadata": {},
     "output_type": "execute_result"
    }
   ],
   "source": [
    "np.hsplit(m,[2])"
   ]
  },
  {
   "cell_type": "code",
   "execution_count": 30,
   "id": "8352a87f-ac86-4375-aa49-7586b68e0b4f",
   "metadata": {},
   "outputs": [],
   "source": [
    "left,right = np.hsplit(m,[2])"
   ]
  },
  {
   "cell_type": "code",
   "execution_count": 31,
   "id": "2653226a-4a4a-4a34-b92d-25585e6872ef",
   "metadata": {},
   "outputs": [
    {
     "data": {
      "text/plain": [
       "array([[ 0,  1],\n",
       "       [ 4,  5],\n",
       "       [ 8,  9],\n",
       "       [12, 13]])"
      ]
     },
     "execution_count": 31,
     "metadata": {},
     "output_type": "execute_result"
    }
   ],
   "source": [
    "left"
   ]
  },
  {
   "cell_type": "code",
   "execution_count": 32,
   "id": "261e007b-b952-44d1-9aed-7be2d67225ca",
   "metadata": {},
   "outputs": [
    {
     "data": {
      "text/plain": [
       "array([[ 2,  3],\n",
       "       [ 6,  7],\n",
       "       [10, 11],\n",
       "       [14, 15]])"
      ]
     },
     "execution_count": 32,
     "metadata": {},
     "output_type": "execute_result"
    }
   ],
   "source": [
    "right"
   ]
  },
  {
   "cell_type": "code",
   "execution_count": 39,
   "id": "97b9208f-ba4d-4097-b4eb-38bbb0e88be9",
   "metadata": {},
   "outputs": [],
   "source": [
    "#Hasan Baris GOK from Data Manipulation 101 NumPy Directory on GitHub."
   ]
  },
  {
   "cell_type": "code",
   "execution_count": null,
   "id": "ec60c97b-6c7e-479e-b826-1a60d5f27de9",
   "metadata": {},
   "outputs": [],
   "source": []
  }
 ],
 "metadata": {
  "kernelspec": {
   "display_name": "Python 3 (ipykernel)",
   "language": "python",
   "name": "python3"
  },
  "language_info": {
   "codemirror_mode": {
    "name": "ipython",
    "version": 3
   },
   "file_extension": ".py",
   "mimetype": "text/x-python",
   "name": "python",
   "nbconvert_exporter": "python",
   "pygments_lexer": "ipython3",
   "version": "3.9.13"
  }
 },
 "nbformat": 4,
 "nbformat_minor": 5
}
