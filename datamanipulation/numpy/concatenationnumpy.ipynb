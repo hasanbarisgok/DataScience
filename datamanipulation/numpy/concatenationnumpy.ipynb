{
 "cells": [
  {
   "cell_type": "code",
   "execution_count": 1,
   "id": "b1374d21-4fbd-4114-8eb8-cd3a4278e487",
   "metadata": {},
   "outputs": [],
   "source": [
    "import numpy as np"
   ]
  },
  {
   "cell_type": "code",
   "execution_count": 4,
   "id": "3cd27d8f-99fb-4b6e-85cc-795cca38d7e2",
   "metadata": {},
   "outputs": [],
   "source": [
    "x = np.array([1,2,3]) #Array X\n",
    "y = np.array([4,5,6]) #Array Y"
   ]
  },
  {
   "cell_type": "code",
   "execution_count": 7,
   "id": "b9e68eb6-5eee-4a54-a2a6-44b0dc0c038f",
   "metadata": {},
   "outputs": [
    {
     "data": {
      "text/plain": [
       "array([1, 2, 3, 4, 5, 6])"
      ]
     },
     "execution_count": 7,
     "metadata": {},
     "output_type": "execute_result"
    }
   ],
   "source": [
    "np.concatenate([x,y]) #Concatenation (1D)"
   ]
  },
  {
   "cell_type": "code",
   "execution_count": 9,
   "id": "241450f8-fd84-4940-aa14-c838d7b0c6b8",
   "metadata": {},
   "outputs": [],
   "source": [
    "z = np.array([7,8,9])"
   ]
  },
  {
   "cell_type": "markdown",
   "id": "3be3e334-a38f-4f57-bae6-f1b54e783295",
   "metadata": {},
   "source": [
    "**Concantenation for 2D Arrays:**"
   ]
  },
  {
   "cell_type": "code",
   "execution_count": 12,
   "id": "b1663edf-5acd-4093-8c0e-1d16930b2965",
   "metadata": {},
   "outputs": [],
   "source": [
    "a = np.array ([[1,2,3],\n",
    "               [4,5,6]]) #2D Array"
   ]
  },
  {
   "cell_type": "code",
   "execution_count": 13,
   "id": "e824ed75-898b-4f43-b7d9-dcb919510575",
   "metadata": {},
   "outputs": [],
   "source": [
    "b = np.array([[10,11,12],\n",
    "              [13,14,15]])#2D Array"
   ]
  },
  {
   "cell_type": "code",
   "execution_count": 14,
   "id": "e5f23f57-323a-4fde-a556-c953fa713f71",
   "metadata": {},
   "outputs": [
    {
     "data": {
      "text/plain": [
       "array([[ 1,  2,  3],\n",
       "       [ 4,  5,  6],\n",
       "       [10, 11, 12],\n",
       "       [13, 14, 15]])"
      ]
     },
     "execution_count": 14,
     "metadata": {},
     "output_type": "execute_result"
    }
   ],
   "source": [
    "np.concatenate([a,b]) #by row based, axis = 0"
   ]
  },
  {
   "cell_type": "code",
   "execution_count": 17,
   "id": "363d0265-935c-4ff7-926f-95bf1beaeaf0",
   "metadata": {},
   "outputs": [
    {
     "data": {
      "text/plain": [
       "array([[ 1,  2,  3, 10, 11, 12],\n",
       "       [ 4,  5,  6, 13, 14, 15]])"
      ]
     },
     "execution_count": 17,
     "metadata": {},
     "output_type": "execute_result"
    }
   ],
   "source": [
    "np.concatenate([a,b], axis = 1 ) #by column based, axis = 1"
   ]
  },
  {
   "cell_type": "markdown",
   "id": "c0d2128d-5d77-4acb-897e-f3cb0d0275cf",
   "metadata": {},
   "source": [
    "Quote: The axis num is normally zero. So the concatenate function combines arrays by row based. If you want to combine arrays by column based, you have to change axis num to `1`."
   ]
  },
  {
   "cell_type": "markdown",
   "id": "723b25e6-0875-46d2-8738-f62eb70618e4",
   "metadata": {},
   "source": [
    "The command `np.concatenate([a,b])` is same as this command `np.concatenate([a,b], axis = 0).` The axis num is normally 0 as you can see. This commands are combines arrays by columns."
   ]
  },
  {
   "cell_type": "code",
   "execution_count": 18,
   "id": "bfee7b70-7de8-4362-aa5b-86796dcbab18",
   "metadata": {},
   "outputs": [],
   "source": [
    "#Hasan Baris GOK"
   ]
  }
 ],
 "metadata": {
  "kernelspec": {
   "display_name": "Python 3 (ipykernel)",
   "language": "python",
   "name": "python3"
  },
  "language_info": {
   "codemirror_mode": {
    "name": "ipython",
    "version": 3
   },
   "file_extension": ".py",
   "mimetype": "text/x-python",
   "name": "python",
   "nbconvert_exporter": "python",
   "pygments_lexer": "ipython3",
   "version": "3.9.13"
  }
 },
 "nbformat": 4,
 "nbformat_minor": 5
}
