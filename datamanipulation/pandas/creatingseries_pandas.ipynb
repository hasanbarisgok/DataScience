{
 "cells": [
  {
   "cell_type": "code",
   "execution_count": 1,
   "id": "e4c741e2-d895-43f0-8e8e-513e7f061e47",
   "metadata": {},
   "outputs": [],
   "source": [
    "import pandas as pd #Adding the library"
   ]
  },
  {
   "cell_type": "code",
   "execution_count": 4,
   "id": "c53db514-9a28-4813-bb60-6d1edaa5a12b",
   "metadata": {},
   "outputs": [],
   "source": [
    "seri = pd.Series([10,20,30,5,4])"
   ]
  },
  {
   "cell_type": "code",
   "execution_count": 5,
   "id": "1872602e-6dc4-434f-9b79-3d317155ba2c",
   "metadata": {},
   "outputs": [
    {
     "data": {
      "text/plain": [
       "0    10\n",
       "1    20\n",
       "2    30\n",
       "3     5\n",
       "4     4\n",
       "dtype: int64"
      ]
     },
     "execution_count": 5,
     "metadata": {},
     "output_type": "execute_result"
    }
   ],
   "source": [
    "seri"
   ]
  },
  {
   "cell_type": "code",
   "execution_count": 22,
   "id": "c1736967-ce01-4c12-8de0-30f7728a43e9",
   "metadata": {},
   "outputs": [
    {
     "data": {
      "text/plain": [
       "pandas.core.series.Series"
      ]
     },
     "execution_count": 22,
     "metadata": {},
     "output_type": "execute_result"
    }
   ],
   "source": [
    "type(seri) #The info of variable type"
   ]
  },
  {
   "cell_type": "code",
   "execution_count": 18,
   "id": "34255891-8a7c-4ca2-8630-3db2653f9ddd",
   "metadata": {},
   "outputs": [
    {
     "data": {
      "text/plain": [
       "[RangeIndex(start=0, stop=5, step=1)]"
      ]
     },
     "execution_count": 18,
     "metadata": {},
     "output_type": "execute_result"
    }
   ],
   "source": [
    "seri.axes #The info of $Seri 's indexes "
   ]
  },
  {
   "cell_type": "code",
   "execution_count": 17,
   "id": "dd7b4330-0da1-4152-bac2-02b78d10d23a",
   "metadata": {},
   "outputs": [
    {
     "data": {
      "text/plain": [
       "dtype('int64')"
      ]
     },
     "execution_count": 17,
     "metadata": {},
     "output_type": "execute_result"
    }
   ],
   "source": [
    "seri.dtype #The info of $Seri 's data type"
   ]
  },
  {
   "cell_type": "code",
   "execution_count": 16,
   "id": "b6609f53-4f94-49fd-bb6a-0a358c5dee37",
   "metadata": {},
   "outputs": [
    {
     "data": {
      "text/plain": [
       "5"
      ]
     },
     "execution_count": 16,
     "metadata": {},
     "output_type": "execute_result"
    }
   ],
   "source": [
    "seri.size #The info of $Seri 's size"
   ]
  },
  {
   "cell_type": "code",
   "execution_count": 14,
   "id": "29a423ad-d147-4155-9e8e-948c97b8de74",
   "metadata": {},
   "outputs": [
    {
     "data": {
      "text/plain": [
       "1"
      ]
     },
     "execution_count": 14,
     "metadata": {},
     "output_type": "execute_result"
    }
   ],
   "source": [
    "seri.ndim #The info of Dimension Value of $Seri"
   ]
  },
  {
   "cell_type": "code",
   "execution_count": 20,
   "id": "50d7f8da-8b49-40eb-85ad-d6b56d8ddf55",
   "metadata": {},
   "outputs": [
    {
     "data": {
      "text/plain": [
       "array([10, 20, 30,  5,  4], dtype=int64)"
      ]
     },
     "execution_count": 20,
     "metadata": {},
     "output_type": "execute_result"
    }
   ],
   "source": [
    "seri.values #The info of array values "
   ]
  },
  {
   "cell_type": "code",
   "execution_count": 23,
   "id": "dc478a9a-1db3-45dc-b089-f4e0abf26c41",
   "metadata": {},
   "outputs": [
    {
     "data": {
      "text/plain": [
       "<bound method NDFrame.head of 0    10\n",
       "1    20\n",
       "2    30\n",
       "3     5\n",
       "4     4\n",
       "dtype: int64>"
      ]
     },
     "execution_count": 23,
     "metadata": {},
     "output_type": "execute_result"
    }
   ],
   "source": [
    "seri.head #This command shows first 5 values of the array"
   ]
  },
  {
   "cell_type": "markdown",
   "id": "513620d7-4ab0-43d4-96a2-07e2ac631b11",
   "metadata": {},
   "source": [
    "**Quote:** If you want to see special selection for seeing values, you can use this the command: `seri.head(num)`. For example, `seri.head(10)` shows first 10 values on data set / array.  "
   ]
  },
  {
   "cell_type": "code",
   "execution_count": 24,
   "id": "06f6a3e4-bbf9-4038-a647-07dd36a09f05",
   "metadata": {},
   "outputs": [
    {
     "data": {
      "text/plain": [
       "<bound method NDFrame.tail of 0    10\n",
       "1    20\n",
       "2    30\n",
       "3     5\n",
       "4     4\n",
       "dtype: int64>"
      ]
     },
     "execution_count": 24,
     "metadata": {},
     "output_type": "execute_result"
    }
   ],
   "source": [
    "seri.tail #This commands shows last 5 values of the array"
   ]
  },
  {
   "cell_type": "markdown",
   "id": "b16c5ad3-5cf4-42a3-8cab-775194437da0",
   "metadata": {},
   "source": [
    "**Quote:** If you want to see special selection for seeing values, you can use this the command: `seri.tail(num).` For example, `seri.tail(10)` shows last 10 values on data set / array."
   ]
  },
  {
   "cell_type": "markdown",
   "id": "faa67095-327a-4f7d-b25a-e0c421d50f63",
   "metadata": {},
   "source": [
    "# Giving Names to Indexes"
   ]
  },
  {
   "cell_type": "code",
   "execution_count": 41,
   "id": "9a12a954-85c8-4dbd-b643-e3d9f0aac1ca",
   "metadata": {},
   "outputs": [
    {
     "data": {
      "text/plain": [
       "0     10\n",
       "1     20\n",
       "2    330\n",
       "3     90\n",
       "4      3\n",
       "dtype: int64"
      ]
     },
     "execution_count": 41,
     "metadata": {},
     "output_type": "execute_result"
    }
   ],
   "source": [
    "pd.Series([10,20,330,90,3]) #Creating a Pandas Series"
   ]
  },
  {
   "cell_type": "code",
   "execution_count": 33,
   "id": "fd93c99c-cf38-47bc-a2bd-69aceff722da",
   "metadata": {},
   "outputs": [],
   "source": [
    "seri = pd.Series([10,20,330,90,3], index = [1,0,2,9,\"a\"]) \n",
    "#Giving Names to Indexes"
   ]
  },
  {
   "cell_type": "markdown",
   "id": "7052e47b-681d-465a-bd79-2a6780e75849",
   "metadata": {},
   "source": [
    "**Showing data table:**"
   ]
  },
  {
   "cell_type": "code",
   "execution_count": 36,
   "id": "1ac3d429-430b-4696-a20a-5eeb133a7b40",
   "metadata": {},
   "outputs": [
    {
     "data": {
      "text/plain": [
       "1     10\n",
       "0     20\n",
       "2    330\n",
       "9     90\n",
       "a      3\n",
       "dtype: int64"
      ]
     },
     "execution_count": 36,
     "metadata": {},
     "output_type": "execute_result"
    }
   ],
   "source": [
    "seri"
   ]
  },
  {
   "cell_type": "markdown",
   "id": "658ba56e-4a13-4dae-899e-b18094c2255c",
   "metadata": {},
   "source": [
    "**Quote:** If you're working on the **.py ext. file**, you have to run `print(seri)` command to see the data tables."
   ]
  },
  {
   "cell_type": "code",
   "execution_count": 43,
   "id": "da600e98-7500-42b6-a44c-513e61638eb2",
   "metadata": {},
   "outputs": [
    {
     "data": {
      "text/plain": [
       "3"
      ]
     },
     "execution_count": 43,
     "metadata": {},
     "output_type": "execute_result"
    }
   ],
   "source": [
    "seri[\"a\"] #Showing the value of index `a`"
   ]
  },
  {
   "cell_type": "code",
   "execution_count": 47,
   "id": "fa4e2d5d-fd59-4d88-806f-072bb8ecdc99",
   "metadata": {},
   "outputs": [
    {
     "data": {
      "text/plain": [
       "0     20\n",
       "2    330\n",
       "9     90\n",
       "a      3\n",
       "dtype: int64"
      ]
     },
     "execution_count": 47,
     "metadata": {},
     "output_type": "execute_result"
    }
   ],
   "source": [
    "seri[1:9] #Showing the values on  between of indexes"
   ]
  },
  {
   "cell_type": "markdown",
   "id": "52e91574-1a88-48e1-8c96-80c91421c306",
   "metadata": {},
   "source": [
    "# Creating a Pandas List / Series from the Dictionary"
   ]
  },
  {
   "cell_type": "code",
   "execution_count": 56,
   "id": "76c4a98b-b0d4-40d5-af29-260819103b80",
   "metadata": {},
   "outputs": [],
   "source": [
    "dictionary = {\"hi\":1,\n",
    "              \"hello\":2,\n",
    "              \"hey\":3}\n",
    "\n",
    "#Creating a Dictionary"
   ]
  },
  {
   "cell_type": "code",
   "execution_count": 59,
   "id": "2f70a288-7102-48a6-bb21-33d33e956df8",
   "metadata": {},
   "outputs": [],
   "source": [
    "series = pd.Series(dictionary) \n",
    "#Creating a Pandas Series / List from the Dictionary"
   ]
  },
  {
   "cell_type": "code",
   "execution_count": 60,
   "id": "842605ac-2051-446c-979e-a8428ccfb07d",
   "metadata": {},
   "outputs": [
    {
     "data": {
      "text/plain": [
       "hi       1\n",
       "hello    2\n",
       "hey      3\n",
       "dtype: int64"
      ]
     },
     "execution_count": 60,
     "metadata": {},
     "output_type": "execute_result"
    }
   ],
   "source": [
    "series #Showing the data table"
   ]
  },
  {
   "cell_type": "markdown",
   "id": "942b8f5b-f5e6-411c-ac9e-fd9004774956",
   "metadata": {},
   "source": [
    "**Creating a new Pandas list / series from different two lists:**"
   ]
  },
  {
   "cell_type": "code",
   "execution_count": 61,
   "id": "d939dbda-00fc-4f3c-ac53-60881961b91f",
   "metadata": {},
   "outputs": [
    {
     "data": {
      "text/plain": [
       "1     10\n",
       "0     20\n",
       "2    330\n",
       "9     90\n",
       "a      3\n",
       "1     10\n",
       "0     20\n",
       "2    330\n",
       "9     90\n",
       "a      3\n",
       "dtype: int64"
      ]
     },
     "execution_count": 61,
     "metadata": {},
     "output_type": "execute_result"
    }
   ],
   "source": [
    "pd.concat([seri,seri])"
   ]
  },
  {
   "cell_type": "markdown",
   "id": "fc29a83f-26d7-4b90-bf3c-93030b7b1e1d",
   "metadata": {},
   "source": [
    "**Quote:** You can use different list & series."
   ]
  },
  {
   "cell_type": "code",
   "execution_count": 62,
   "id": "d69ed229-481b-4c66-88e1-405245b3652b",
   "metadata": {},
   "outputs": [],
   "source": [
    "#Hasan Baris GOK from Data Manipulation 201 Pandas Directory on GitHub."
   ]
  }
 ],
 "metadata": {
  "kernelspec": {
   "display_name": "Python 3 (ipykernel)",
   "language": "python",
   "name": "python3"
  },
  "language_info": {
   "codemirror_mode": {
    "name": "ipython",
    "version": 3
   },
   "file_extension": ".py",
   "mimetype": "text/x-python",
   "name": "python",
   "nbconvert_exporter": "python",
   "pygments_lexer": "ipython3",
   "version": "3.9.13"
  }
 },
 "nbformat": 4,
 "nbformat_minor": 5
}
